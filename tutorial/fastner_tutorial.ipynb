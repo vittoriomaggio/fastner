{
  "nbformat": 4,
  "nbformat_minor": 0,
  "metadata": {
    "colab": {
      "provenance": []
    },
    "kernelspec": {
      "name": "python3",
      "display_name": "Python 3"
    },
    "language_info": {
      "name": "python"
    },
    "accelerator": "GPU",
    "widgets": {
      "application/vnd.jupyter.widget-state+json": {
        "2814e081c7f047b1ba2d213a04adcde4": {
          "model_module": "@jupyter-widgets/controls",
          "model_name": "HBoxModel",
          "model_module_version": "1.5.0",
          "state": {
            "_dom_classes": [],
            "_model_module": "@jupyter-widgets/controls",
            "_model_module_version": "1.5.0",
            "_model_name": "HBoxModel",
            "_view_count": null,
            "_view_module": "@jupyter-widgets/controls",
            "_view_module_version": "1.5.0",
            "_view_name": "HBoxView",
            "box_style": "",
            "children": [
              "IPY_MODEL_42a1ff8b23ab40fbbf0b089e465db5e2",
              "IPY_MODEL_4c0ccf25d5e1490993330553ef4e6fc0",
              "IPY_MODEL_edbb5c0465d54efb8f7109aaa889b4dd"
            ],
            "layout": "IPY_MODEL_3b2d01ebd029477bba17d20e2840af76"
          }
        },
        "42a1ff8b23ab40fbbf0b089e465db5e2": {
          "model_module": "@jupyter-widgets/controls",
          "model_name": "HTMLModel",
          "model_module_version": "1.5.0",
          "state": {
            "_dom_classes": [],
            "_model_module": "@jupyter-widgets/controls",
            "_model_module_version": "1.5.0",
            "_model_name": "HTMLModel",
            "_view_count": null,
            "_view_module": "@jupyter-widgets/controls",
            "_view_module_version": "1.5.0",
            "_view_name": "HTMLView",
            "description": "",
            "description_tooltip": null,
            "layout": "IPY_MODEL_935b087c668b4bd1ad9aa1f61ad5a23c",
            "placeholder": "​",
            "style": "IPY_MODEL_2edaaf0b83484a4ea4b8833ba838b52d",
            "value": "Downloading builder script: "
          }
        },
        "4c0ccf25d5e1490993330553ef4e6fc0": {
          "model_module": "@jupyter-widgets/controls",
          "model_name": "FloatProgressModel",
          "model_module_version": "1.5.0",
          "state": {
            "_dom_classes": [],
            "_model_module": "@jupyter-widgets/controls",
            "_model_module_version": "1.5.0",
            "_model_name": "FloatProgressModel",
            "_view_count": null,
            "_view_module": "@jupyter-widgets/controls",
            "_view_module_version": "1.5.0",
            "_view_name": "ProgressView",
            "bar_style": "success",
            "description": "",
            "description_tooltip": null,
            "layout": "IPY_MODEL_da35f87408c649e8a0edd5a91a62fc2b",
            "max": 2472,
            "min": 0,
            "orientation": "horizontal",
            "style": "IPY_MODEL_8eae2fb2fa2d4d4e933782ed935ad273",
            "value": 2472
          }
        },
        "edbb5c0465d54efb8f7109aaa889b4dd": {
          "model_module": "@jupyter-widgets/controls",
          "model_name": "HTMLModel",
          "model_module_version": "1.5.0",
          "state": {
            "_dom_classes": [],
            "_model_module": "@jupyter-widgets/controls",
            "_model_module_version": "1.5.0",
            "_model_name": "HTMLModel",
            "_view_count": null,
            "_view_module": "@jupyter-widgets/controls",
            "_view_module_version": "1.5.0",
            "_view_name": "HTMLView",
            "description": "",
            "description_tooltip": null,
            "layout": "IPY_MODEL_172a1c1bda794b0a9c7bc625661a5c8b",
            "placeholder": "​",
            "style": "IPY_MODEL_28f93aaffe824fe98a5a35b31386bfab",
            "value": " 6.33k/? [00:00&lt;00:00, 74.1kB/s]"
          }
        },
        "3b2d01ebd029477bba17d20e2840af76": {
          "model_module": "@jupyter-widgets/base",
          "model_name": "LayoutModel",
          "model_module_version": "1.2.0",
          "state": {
            "_model_module": "@jupyter-widgets/base",
            "_model_module_version": "1.2.0",
            "_model_name": "LayoutModel",
            "_view_count": null,
            "_view_module": "@jupyter-widgets/base",
            "_view_module_version": "1.2.0",
            "_view_name": "LayoutView",
            "align_content": null,
            "align_items": null,
            "align_self": null,
            "border": null,
            "bottom": null,
            "display": null,
            "flex": null,
            "flex_flow": null,
            "grid_area": null,
            "grid_auto_columns": null,
            "grid_auto_flow": null,
            "grid_auto_rows": null,
            "grid_column": null,
            "grid_gap": null,
            "grid_row": null,
            "grid_template_areas": null,
            "grid_template_columns": null,
            "grid_template_rows": null,
            "height": null,
            "justify_content": null,
            "justify_items": null,
            "left": null,
            "margin": null,
            "max_height": null,
            "max_width": null,
            "min_height": null,
            "min_width": null,
            "object_fit": null,
            "object_position": null,
            "order": null,
            "overflow": null,
            "overflow_x": null,
            "overflow_y": null,
            "padding": null,
            "right": null,
            "top": null,
            "visibility": null,
            "width": null
          }
        },
        "935b087c668b4bd1ad9aa1f61ad5a23c": {
          "model_module": "@jupyter-widgets/base",
          "model_name": "LayoutModel",
          "model_module_version": "1.2.0",
          "state": {
            "_model_module": "@jupyter-widgets/base",
            "_model_module_version": "1.2.0",
            "_model_name": "LayoutModel",
            "_view_count": null,
            "_view_module": "@jupyter-widgets/base",
            "_view_module_version": "1.2.0",
            "_view_name": "LayoutView",
            "align_content": null,
            "align_items": null,
            "align_self": null,
            "border": null,
            "bottom": null,
            "display": null,
            "flex": null,
            "flex_flow": null,
            "grid_area": null,
            "grid_auto_columns": null,
            "grid_auto_flow": null,
            "grid_auto_rows": null,
            "grid_column": null,
            "grid_gap": null,
            "grid_row": null,
            "grid_template_areas": null,
            "grid_template_columns": null,
            "grid_template_rows": null,
            "height": null,
            "justify_content": null,
            "justify_items": null,
            "left": null,
            "margin": null,
            "max_height": null,
            "max_width": null,
            "min_height": null,
            "min_width": null,
            "object_fit": null,
            "object_position": null,
            "order": null,
            "overflow": null,
            "overflow_x": null,
            "overflow_y": null,
            "padding": null,
            "right": null,
            "top": null,
            "visibility": null,
            "width": null
          }
        },
        "2edaaf0b83484a4ea4b8833ba838b52d": {
          "model_module": "@jupyter-widgets/controls",
          "model_name": "DescriptionStyleModel",
          "model_module_version": "1.5.0",
          "state": {
            "_model_module": "@jupyter-widgets/controls",
            "_model_module_version": "1.5.0",
            "_model_name": "DescriptionStyleModel",
            "_view_count": null,
            "_view_module": "@jupyter-widgets/base",
            "_view_module_version": "1.2.0",
            "_view_name": "StyleView",
            "description_width": ""
          }
        },
        "da35f87408c649e8a0edd5a91a62fc2b": {
          "model_module": "@jupyter-widgets/base",
          "model_name": "LayoutModel",
          "model_module_version": "1.2.0",
          "state": {
            "_model_module": "@jupyter-widgets/base",
            "_model_module_version": "1.2.0",
            "_model_name": "LayoutModel",
            "_view_count": null,
            "_view_module": "@jupyter-widgets/base",
            "_view_module_version": "1.2.0",
            "_view_name": "LayoutView",
            "align_content": null,
            "align_items": null,
            "align_self": null,
            "border": null,
            "bottom": null,
            "display": null,
            "flex": null,
            "flex_flow": null,
            "grid_area": null,
            "grid_auto_columns": null,
            "grid_auto_flow": null,
            "grid_auto_rows": null,
            "grid_column": null,
            "grid_gap": null,
            "grid_row": null,
            "grid_template_areas": null,
            "grid_template_columns": null,
            "grid_template_rows": null,
            "height": null,
            "justify_content": null,
            "justify_items": null,
            "left": null,
            "margin": null,
            "max_height": null,
            "max_width": null,
            "min_height": null,
            "min_width": null,
            "object_fit": null,
            "object_position": null,
            "order": null,
            "overflow": null,
            "overflow_x": null,
            "overflow_y": null,
            "padding": null,
            "right": null,
            "top": null,
            "visibility": null,
            "width": null
          }
        },
        "8eae2fb2fa2d4d4e933782ed935ad273": {
          "model_module": "@jupyter-widgets/controls",
          "model_name": "ProgressStyleModel",
          "model_module_version": "1.5.0",
          "state": {
            "_model_module": "@jupyter-widgets/controls",
            "_model_module_version": "1.5.0",
            "_model_name": "ProgressStyleModel",
            "_view_count": null,
            "_view_module": "@jupyter-widgets/base",
            "_view_module_version": "1.2.0",
            "_view_name": "StyleView",
            "bar_color": null,
            "description_width": ""
          }
        },
        "172a1c1bda794b0a9c7bc625661a5c8b": {
          "model_module": "@jupyter-widgets/base",
          "model_name": "LayoutModel",
          "model_module_version": "1.2.0",
          "state": {
            "_model_module": "@jupyter-widgets/base",
            "_model_module_version": "1.2.0",
            "_model_name": "LayoutModel",
            "_view_count": null,
            "_view_module": "@jupyter-widgets/base",
            "_view_module_version": "1.2.0",
            "_view_name": "LayoutView",
            "align_content": null,
            "align_items": null,
            "align_self": null,
            "border": null,
            "bottom": null,
            "display": null,
            "flex": null,
            "flex_flow": null,
            "grid_area": null,
            "grid_auto_columns": null,
            "grid_auto_flow": null,
            "grid_auto_rows": null,
            "grid_column": null,
            "grid_gap": null,
            "grid_row": null,
            "grid_template_areas": null,
            "grid_template_columns": null,
            "grid_template_rows": null,
            "height": null,
            "justify_content": null,
            "justify_items": null,
            "left": null,
            "margin": null,
            "max_height": null,
            "max_width": null,
            "min_height": null,
            "min_width": null,
            "object_fit": null,
            "object_position": null,
            "order": null,
            "overflow": null,
            "overflow_x": null,
            "overflow_y": null,
            "padding": null,
            "right": null,
            "top": null,
            "visibility": null,
            "width": null
          }
        },
        "28f93aaffe824fe98a5a35b31386bfab": {
          "model_module": "@jupyter-widgets/controls",
          "model_name": "DescriptionStyleModel",
          "model_module_version": "1.5.0",
          "state": {
            "_model_module": "@jupyter-widgets/controls",
            "_model_module_version": "1.5.0",
            "_model_name": "DescriptionStyleModel",
            "_view_count": null,
            "_view_module": "@jupyter-widgets/base",
            "_view_module_version": "1.2.0",
            "_view_name": "StyleView",
            "description_width": ""
          }
        },
        "ebec3fcece234be2aab12a91c5f19177": {
          "model_module": "@jupyter-widgets/controls",
          "model_name": "HBoxModel",
          "model_module_version": "1.5.0",
          "state": {
            "_dom_classes": [],
            "_model_module": "@jupyter-widgets/controls",
            "_model_module_version": "1.5.0",
            "_model_name": "HBoxModel",
            "_view_count": null,
            "_view_module": "@jupyter-widgets/controls",
            "_view_module_version": "1.5.0",
            "_view_name": "HBoxView",
            "box_style": "",
            "children": [
              "IPY_MODEL_289c3b85ea1c4eab90aff3d30b0e56c3",
              "IPY_MODEL_479f1f53ec984ef69c7356adb6fc6de9",
              "IPY_MODEL_2a4ea05a57824f6f922b7d10699610f7"
            ],
            "layout": "IPY_MODEL_d3b41dab99224256bfce4d5555aefbf1"
          }
        },
        "289c3b85ea1c4eab90aff3d30b0e56c3": {
          "model_module": "@jupyter-widgets/controls",
          "model_name": "HTMLModel",
          "model_module_version": "1.5.0",
          "state": {
            "_dom_classes": [],
            "_model_module": "@jupyter-widgets/controls",
            "_model_module_version": "1.5.0",
            "_model_name": "HTMLModel",
            "_view_count": null,
            "_view_module": "@jupyter-widgets/controls",
            "_view_module_version": "1.5.0",
            "_view_name": "HTMLView",
            "description": "",
            "description_tooltip": null,
            "layout": "IPY_MODEL_8bd79ff2b0ff4b53b28c0859d8b19847",
            "placeholder": "​",
            "style": "IPY_MODEL_24bc8030c7d64104bd98e3a534d25436",
            "value": "Downloading: 100%"
          }
        },
        "479f1f53ec984ef69c7356adb6fc6de9": {
          "model_module": "@jupyter-widgets/controls",
          "model_name": "FloatProgressModel",
          "model_module_version": "1.5.0",
          "state": {
            "_dom_classes": [],
            "_model_module": "@jupyter-widgets/controls",
            "_model_module_version": "1.5.0",
            "_model_name": "FloatProgressModel",
            "_view_count": null,
            "_view_module": "@jupyter-widgets/controls",
            "_view_module_version": "1.5.0",
            "_view_name": "ProgressView",
            "bar_style": "success",
            "description": "",
            "description_tooltip": null,
            "layout": "IPY_MODEL_01f8969009914420812e2125300e8612",
            "max": 231508,
            "min": 0,
            "orientation": "horizontal",
            "style": "IPY_MODEL_fcec23b6d13e4898970ccbeb39e613f6",
            "value": 231508
          }
        },
        "2a4ea05a57824f6f922b7d10699610f7": {
          "model_module": "@jupyter-widgets/controls",
          "model_name": "HTMLModel",
          "model_module_version": "1.5.0",
          "state": {
            "_dom_classes": [],
            "_model_module": "@jupyter-widgets/controls",
            "_model_module_version": "1.5.0",
            "_model_name": "HTMLModel",
            "_view_count": null,
            "_view_module": "@jupyter-widgets/controls",
            "_view_module_version": "1.5.0",
            "_view_name": "HTMLView",
            "description": "",
            "description_tooltip": null,
            "layout": "IPY_MODEL_95ea24a8bafd4f68859dac96f553d265",
            "placeholder": "​",
            "style": "IPY_MODEL_2f2c5474bbac416eb20ae2b28a9e93a2",
            "value": " 232k/232k [00:00&lt;00:00, 1.73MB/s]"
          }
        },
        "d3b41dab99224256bfce4d5555aefbf1": {
          "model_module": "@jupyter-widgets/base",
          "model_name": "LayoutModel",
          "model_module_version": "1.2.0",
          "state": {
            "_model_module": "@jupyter-widgets/base",
            "_model_module_version": "1.2.0",
            "_model_name": "LayoutModel",
            "_view_count": null,
            "_view_module": "@jupyter-widgets/base",
            "_view_module_version": "1.2.0",
            "_view_name": "LayoutView",
            "align_content": null,
            "align_items": null,
            "align_self": null,
            "border": null,
            "bottom": null,
            "display": null,
            "flex": null,
            "flex_flow": null,
            "grid_area": null,
            "grid_auto_columns": null,
            "grid_auto_flow": null,
            "grid_auto_rows": null,
            "grid_column": null,
            "grid_gap": null,
            "grid_row": null,
            "grid_template_areas": null,
            "grid_template_columns": null,
            "grid_template_rows": null,
            "height": null,
            "justify_content": null,
            "justify_items": null,
            "left": null,
            "margin": null,
            "max_height": null,
            "max_width": null,
            "min_height": null,
            "min_width": null,
            "object_fit": null,
            "object_position": null,
            "order": null,
            "overflow": null,
            "overflow_x": null,
            "overflow_y": null,
            "padding": null,
            "right": null,
            "top": null,
            "visibility": null,
            "width": null
          }
        },
        "8bd79ff2b0ff4b53b28c0859d8b19847": {
          "model_module": "@jupyter-widgets/base",
          "model_name": "LayoutModel",
          "model_module_version": "1.2.0",
          "state": {
            "_model_module": "@jupyter-widgets/base",
            "_model_module_version": "1.2.0",
            "_model_name": "LayoutModel",
            "_view_count": null,
            "_view_module": "@jupyter-widgets/base",
            "_view_module_version": "1.2.0",
            "_view_name": "LayoutView",
            "align_content": null,
            "align_items": null,
            "align_self": null,
            "border": null,
            "bottom": null,
            "display": null,
            "flex": null,
            "flex_flow": null,
            "grid_area": null,
            "grid_auto_columns": null,
            "grid_auto_flow": null,
            "grid_auto_rows": null,
            "grid_column": null,
            "grid_gap": null,
            "grid_row": null,
            "grid_template_areas": null,
            "grid_template_columns": null,
            "grid_template_rows": null,
            "height": null,
            "justify_content": null,
            "justify_items": null,
            "left": null,
            "margin": null,
            "max_height": null,
            "max_width": null,
            "min_height": null,
            "min_width": null,
            "object_fit": null,
            "object_position": null,
            "order": null,
            "overflow": null,
            "overflow_x": null,
            "overflow_y": null,
            "padding": null,
            "right": null,
            "top": null,
            "visibility": null,
            "width": null
          }
        },
        "24bc8030c7d64104bd98e3a534d25436": {
          "model_module": "@jupyter-widgets/controls",
          "model_name": "DescriptionStyleModel",
          "model_module_version": "1.5.0",
          "state": {
            "_model_module": "@jupyter-widgets/controls",
            "_model_module_version": "1.5.0",
            "_model_name": "DescriptionStyleModel",
            "_view_count": null,
            "_view_module": "@jupyter-widgets/base",
            "_view_module_version": "1.2.0",
            "_view_name": "StyleView",
            "description_width": ""
          }
        },
        "01f8969009914420812e2125300e8612": {
          "model_module": "@jupyter-widgets/base",
          "model_name": "LayoutModel",
          "model_module_version": "1.2.0",
          "state": {
            "_model_module": "@jupyter-widgets/base",
            "_model_module_version": "1.2.0",
            "_model_name": "LayoutModel",
            "_view_count": null,
            "_view_module": "@jupyter-widgets/base",
            "_view_module_version": "1.2.0",
            "_view_name": "LayoutView",
            "align_content": null,
            "align_items": null,
            "align_self": null,
            "border": null,
            "bottom": null,
            "display": null,
            "flex": null,
            "flex_flow": null,
            "grid_area": null,
            "grid_auto_columns": null,
            "grid_auto_flow": null,
            "grid_auto_rows": null,
            "grid_column": null,
            "grid_gap": null,
            "grid_row": null,
            "grid_template_areas": null,
            "grid_template_columns": null,
            "grid_template_rows": null,
            "height": null,
            "justify_content": null,
            "justify_items": null,
            "left": null,
            "margin": null,
            "max_height": null,
            "max_width": null,
            "min_height": null,
            "min_width": null,
            "object_fit": null,
            "object_position": null,
            "order": null,
            "overflow": null,
            "overflow_x": null,
            "overflow_y": null,
            "padding": null,
            "right": null,
            "top": null,
            "visibility": null,
            "width": null
          }
        },
        "fcec23b6d13e4898970ccbeb39e613f6": {
          "model_module": "@jupyter-widgets/controls",
          "model_name": "ProgressStyleModel",
          "model_module_version": "1.5.0",
          "state": {
            "_model_module": "@jupyter-widgets/controls",
            "_model_module_version": "1.5.0",
            "_model_name": "ProgressStyleModel",
            "_view_count": null,
            "_view_module": "@jupyter-widgets/base",
            "_view_module_version": "1.2.0",
            "_view_name": "StyleView",
            "bar_color": null,
            "description_width": ""
          }
        },
        "95ea24a8bafd4f68859dac96f553d265": {
          "model_module": "@jupyter-widgets/base",
          "model_name": "LayoutModel",
          "model_module_version": "1.2.0",
          "state": {
            "_model_module": "@jupyter-widgets/base",
            "_model_module_version": "1.2.0",
            "_model_name": "LayoutModel",
            "_view_count": null,
            "_view_module": "@jupyter-widgets/base",
            "_view_module_version": "1.2.0",
            "_view_name": "LayoutView",
            "align_content": null,
            "align_items": null,
            "align_self": null,
            "border": null,
            "bottom": null,
            "display": null,
            "flex": null,
            "flex_flow": null,
            "grid_area": null,
            "grid_auto_columns": null,
            "grid_auto_flow": null,
            "grid_auto_rows": null,
            "grid_column": null,
            "grid_gap": null,
            "grid_row": null,
            "grid_template_areas": null,
            "grid_template_columns": null,
            "grid_template_rows": null,
            "height": null,
            "justify_content": null,
            "justify_items": null,
            "left": null,
            "margin": null,
            "max_height": null,
            "max_width": null,
            "min_height": null,
            "min_width": null,
            "object_fit": null,
            "object_position": null,
            "order": null,
            "overflow": null,
            "overflow_x": null,
            "overflow_y": null,
            "padding": null,
            "right": null,
            "top": null,
            "visibility": null,
            "width": null
          }
        },
        "2f2c5474bbac416eb20ae2b28a9e93a2": {
          "model_module": "@jupyter-widgets/controls",
          "model_name": "DescriptionStyleModel",
          "model_module_version": "1.5.0",
          "state": {
            "_model_module": "@jupyter-widgets/controls",
            "_model_module_version": "1.5.0",
            "_model_name": "DescriptionStyleModel",
            "_view_count": null,
            "_view_module": "@jupyter-widgets/base",
            "_view_module_version": "1.2.0",
            "_view_name": "StyleView",
            "description_width": ""
          }
        },
        "a882e4e0f1554d279902d64176b8019d": {
          "model_module": "@jupyter-widgets/controls",
          "model_name": "HBoxModel",
          "model_module_version": "1.5.0",
          "state": {
            "_dom_classes": [],
            "_model_module": "@jupyter-widgets/controls",
            "_model_module_version": "1.5.0",
            "_model_name": "HBoxModel",
            "_view_count": null,
            "_view_module": "@jupyter-widgets/controls",
            "_view_module_version": "1.5.0",
            "_view_name": "HBoxView",
            "box_style": "",
            "children": [
              "IPY_MODEL_f567e9c13bad439faed7ccc85b81b9a0",
              "IPY_MODEL_6eddee8fe9c64e62b27b7ddd08b967ff",
              "IPY_MODEL_5559635de9b140dcaa8499e4cce109ed"
            ],
            "layout": "IPY_MODEL_988c108501614f2bbcfdfcc7bf4247e4"
          }
        },
        "f567e9c13bad439faed7ccc85b81b9a0": {
          "model_module": "@jupyter-widgets/controls",
          "model_name": "HTMLModel",
          "model_module_version": "1.5.0",
          "state": {
            "_dom_classes": [],
            "_model_module": "@jupyter-widgets/controls",
            "_model_module_version": "1.5.0",
            "_model_name": "HTMLModel",
            "_view_count": null,
            "_view_module": "@jupyter-widgets/controls",
            "_view_module_version": "1.5.0",
            "_view_name": "HTMLView",
            "description": "",
            "description_tooltip": null,
            "layout": "IPY_MODEL_677f85d951ec42e997994f2daf5acbd2",
            "placeholder": "​",
            "style": "IPY_MODEL_216391f2a1c04bb1a307ae82a533d9fd",
            "value": "Downloading: 100%"
          }
        },
        "6eddee8fe9c64e62b27b7ddd08b967ff": {
          "model_module": "@jupyter-widgets/controls",
          "model_name": "FloatProgressModel",
          "model_module_version": "1.5.0",
          "state": {
            "_dom_classes": [],
            "_model_module": "@jupyter-widgets/controls",
            "_model_module_version": "1.5.0",
            "_model_name": "FloatProgressModel",
            "_view_count": null,
            "_view_module": "@jupyter-widgets/controls",
            "_view_module_version": "1.5.0",
            "_view_name": "ProgressView",
            "bar_style": "success",
            "description": "",
            "description_tooltip": null,
            "layout": "IPY_MODEL_2297c5979a944dbead3e0387a7c5f1f8",
            "max": 28,
            "min": 0,
            "orientation": "horizontal",
            "style": "IPY_MODEL_79dcf05022bc4aadb9b5face49995750",
            "value": 28
          }
        },
        "5559635de9b140dcaa8499e4cce109ed": {
          "model_module": "@jupyter-widgets/controls",
          "model_name": "HTMLModel",
          "model_module_version": "1.5.0",
          "state": {
            "_dom_classes": [],
            "_model_module": "@jupyter-widgets/controls",
            "_model_module_version": "1.5.0",
            "_model_name": "HTMLModel",
            "_view_count": null,
            "_view_module": "@jupyter-widgets/controls",
            "_view_module_version": "1.5.0",
            "_view_name": "HTMLView",
            "description": "",
            "description_tooltip": null,
            "layout": "IPY_MODEL_bb9c39a376324f388943232ef90c5229",
            "placeholder": "​",
            "style": "IPY_MODEL_a6e598d1ed694dcf8cf750410a685443",
            "value": " 28.0/28.0 [00:00&lt;00:00, 911B/s]"
          }
        },
        "988c108501614f2bbcfdfcc7bf4247e4": {
          "model_module": "@jupyter-widgets/base",
          "model_name": "LayoutModel",
          "model_module_version": "1.2.0",
          "state": {
            "_model_module": "@jupyter-widgets/base",
            "_model_module_version": "1.2.0",
            "_model_name": "LayoutModel",
            "_view_count": null,
            "_view_module": "@jupyter-widgets/base",
            "_view_module_version": "1.2.0",
            "_view_name": "LayoutView",
            "align_content": null,
            "align_items": null,
            "align_self": null,
            "border": null,
            "bottom": null,
            "display": null,
            "flex": null,
            "flex_flow": null,
            "grid_area": null,
            "grid_auto_columns": null,
            "grid_auto_flow": null,
            "grid_auto_rows": null,
            "grid_column": null,
            "grid_gap": null,
            "grid_row": null,
            "grid_template_areas": null,
            "grid_template_columns": null,
            "grid_template_rows": null,
            "height": null,
            "justify_content": null,
            "justify_items": null,
            "left": null,
            "margin": null,
            "max_height": null,
            "max_width": null,
            "min_height": null,
            "min_width": null,
            "object_fit": null,
            "object_position": null,
            "order": null,
            "overflow": null,
            "overflow_x": null,
            "overflow_y": null,
            "padding": null,
            "right": null,
            "top": null,
            "visibility": null,
            "width": null
          }
        },
        "677f85d951ec42e997994f2daf5acbd2": {
          "model_module": "@jupyter-widgets/base",
          "model_name": "LayoutModel",
          "model_module_version": "1.2.0",
          "state": {
            "_model_module": "@jupyter-widgets/base",
            "_model_module_version": "1.2.0",
            "_model_name": "LayoutModel",
            "_view_count": null,
            "_view_module": "@jupyter-widgets/base",
            "_view_module_version": "1.2.0",
            "_view_name": "LayoutView",
            "align_content": null,
            "align_items": null,
            "align_self": null,
            "border": null,
            "bottom": null,
            "display": null,
            "flex": null,
            "flex_flow": null,
            "grid_area": null,
            "grid_auto_columns": null,
            "grid_auto_flow": null,
            "grid_auto_rows": null,
            "grid_column": null,
            "grid_gap": null,
            "grid_row": null,
            "grid_template_areas": null,
            "grid_template_columns": null,
            "grid_template_rows": null,
            "height": null,
            "justify_content": null,
            "justify_items": null,
            "left": null,
            "margin": null,
            "max_height": null,
            "max_width": null,
            "min_height": null,
            "min_width": null,
            "object_fit": null,
            "object_position": null,
            "order": null,
            "overflow": null,
            "overflow_x": null,
            "overflow_y": null,
            "padding": null,
            "right": null,
            "top": null,
            "visibility": null,
            "width": null
          }
        },
        "216391f2a1c04bb1a307ae82a533d9fd": {
          "model_module": "@jupyter-widgets/controls",
          "model_name": "DescriptionStyleModel",
          "model_module_version": "1.5.0",
          "state": {
            "_model_module": "@jupyter-widgets/controls",
            "_model_module_version": "1.5.0",
            "_model_name": "DescriptionStyleModel",
            "_view_count": null,
            "_view_module": "@jupyter-widgets/base",
            "_view_module_version": "1.2.0",
            "_view_name": "StyleView",
            "description_width": ""
          }
        },
        "2297c5979a944dbead3e0387a7c5f1f8": {
          "model_module": "@jupyter-widgets/base",
          "model_name": "LayoutModel",
          "model_module_version": "1.2.0",
          "state": {
            "_model_module": "@jupyter-widgets/base",
            "_model_module_version": "1.2.0",
            "_model_name": "LayoutModel",
            "_view_count": null,
            "_view_module": "@jupyter-widgets/base",
            "_view_module_version": "1.2.0",
            "_view_name": "LayoutView",
            "align_content": null,
            "align_items": null,
            "align_self": null,
            "border": null,
            "bottom": null,
            "display": null,
            "flex": null,
            "flex_flow": null,
            "grid_area": null,
            "grid_auto_columns": null,
            "grid_auto_flow": null,
            "grid_auto_rows": null,
            "grid_column": null,
            "grid_gap": null,
            "grid_row": null,
            "grid_template_areas": null,
            "grid_template_columns": null,
            "grid_template_rows": null,
            "height": null,
            "justify_content": null,
            "justify_items": null,
            "left": null,
            "margin": null,
            "max_height": null,
            "max_width": null,
            "min_height": null,
            "min_width": null,
            "object_fit": null,
            "object_position": null,
            "order": null,
            "overflow": null,
            "overflow_x": null,
            "overflow_y": null,
            "padding": null,
            "right": null,
            "top": null,
            "visibility": null,
            "width": null
          }
        },
        "79dcf05022bc4aadb9b5face49995750": {
          "model_module": "@jupyter-widgets/controls",
          "model_name": "ProgressStyleModel",
          "model_module_version": "1.5.0",
          "state": {
            "_model_module": "@jupyter-widgets/controls",
            "_model_module_version": "1.5.0",
            "_model_name": "ProgressStyleModel",
            "_view_count": null,
            "_view_module": "@jupyter-widgets/base",
            "_view_module_version": "1.2.0",
            "_view_name": "StyleView",
            "bar_color": null,
            "description_width": ""
          }
        },
        "bb9c39a376324f388943232ef90c5229": {
          "model_module": "@jupyter-widgets/base",
          "model_name": "LayoutModel",
          "model_module_version": "1.2.0",
          "state": {
            "_model_module": "@jupyter-widgets/base",
            "_model_module_version": "1.2.0",
            "_model_name": "LayoutModel",
            "_view_count": null,
            "_view_module": "@jupyter-widgets/base",
            "_view_module_version": "1.2.0",
            "_view_name": "LayoutView",
            "align_content": null,
            "align_items": null,
            "align_self": null,
            "border": null,
            "bottom": null,
            "display": null,
            "flex": null,
            "flex_flow": null,
            "grid_area": null,
            "grid_auto_columns": null,
            "grid_auto_flow": null,
            "grid_auto_rows": null,
            "grid_column": null,
            "grid_gap": null,
            "grid_row": null,
            "grid_template_areas": null,
            "grid_template_columns": null,
            "grid_template_rows": null,
            "height": null,
            "justify_content": null,
            "justify_items": null,
            "left": null,
            "margin": null,
            "max_height": null,
            "max_width": null,
            "min_height": null,
            "min_width": null,
            "object_fit": null,
            "object_position": null,
            "order": null,
            "overflow": null,
            "overflow_x": null,
            "overflow_y": null,
            "padding": null,
            "right": null,
            "top": null,
            "visibility": null,
            "width": null
          }
        },
        "a6e598d1ed694dcf8cf750410a685443": {
          "model_module": "@jupyter-widgets/controls",
          "model_name": "DescriptionStyleModel",
          "model_module_version": "1.5.0",
          "state": {
            "_model_module": "@jupyter-widgets/controls",
            "_model_module_version": "1.5.0",
            "_model_name": "DescriptionStyleModel",
            "_view_count": null,
            "_view_module": "@jupyter-widgets/base",
            "_view_module_version": "1.2.0",
            "_view_name": "StyleView",
            "description_width": ""
          }
        },
        "e195ffefa74141d982602bb7eca2b2f3": {
          "model_module": "@jupyter-widgets/controls",
          "model_name": "HBoxModel",
          "model_module_version": "1.5.0",
          "state": {
            "_dom_classes": [],
            "_model_module": "@jupyter-widgets/controls",
            "_model_module_version": "1.5.0",
            "_model_name": "HBoxModel",
            "_view_count": null,
            "_view_module": "@jupyter-widgets/controls",
            "_view_module_version": "1.5.0",
            "_view_name": "HBoxView",
            "box_style": "",
            "children": [
              "IPY_MODEL_dcfd4ad3e4554330bef918f9a88ef1ef",
              "IPY_MODEL_f7b5aba89d20410ebbb4a81c4519b8c7",
              "IPY_MODEL_bbe926bd4646416aa1ad9fcebdb42478"
            ],
            "layout": "IPY_MODEL_29ed03c9b6834f93a0a7627dd960c6a9"
          }
        },
        "dcfd4ad3e4554330bef918f9a88ef1ef": {
          "model_module": "@jupyter-widgets/controls",
          "model_name": "HTMLModel",
          "model_module_version": "1.5.0",
          "state": {
            "_dom_classes": [],
            "_model_module": "@jupyter-widgets/controls",
            "_model_module_version": "1.5.0",
            "_model_name": "HTMLModel",
            "_view_count": null,
            "_view_module": "@jupyter-widgets/controls",
            "_view_module_version": "1.5.0",
            "_view_name": "HTMLView",
            "description": "",
            "description_tooltip": null,
            "layout": "IPY_MODEL_8af018d2fd8d431d836a3b8b3e659b76",
            "placeholder": "​",
            "style": "IPY_MODEL_532ae4c6fc264d6c9eb7f44454e23ea3",
            "value": "Downloading: 100%"
          }
        },
        "f7b5aba89d20410ebbb4a81c4519b8c7": {
          "model_module": "@jupyter-widgets/controls",
          "model_name": "FloatProgressModel",
          "model_module_version": "1.5.0",
          "state": {
            "_dom_classes": [],
            "_model_module": "@jupyter-widgets/controls",
            "_model_module_version": "1.5.0",
            "_model_name": "FloatProgressModel",
            "_view_count": null,
            "_view_module": "@jupyter-widgets/controls",
            "_view_module_version": "1.5.0",
            "_view_name": "ProgressView",
            "bar_style": "success",
            "description": "",
            "description_tooltip": null,
            "layout": "IPY_MODEL_f4727a5c6ea34764bb3afa382f5bf4f8",
            "max": 483,
            "min": 0,
            "orientation": "horizontal",
            "style": "IPY_MODEL_4761bfcdc25749d5a02e843c126a34ff",
            "value": 483
          }
        },
        "bbe926bd4646416aa1ad9fcebdb42478": {
          "model_module": "@jupyter-widgets/controls",
          "model_name": "HTMLModel",
          "model_module_version": "1.5.0",
          "state": {
            "_dom_classes": [],
            "_model_module": "@jupyter-widgets/controls",
            "_model_module_version": "1.5.0",
            "_model_name": "HTMLModel",
            "_view_count": null,
            "_view_module": "@jupyter-widgets/controls",
            "_view_module_version": "1.5.0",
            "_view_name": "HTMLView",
            "description": "",
            "description_tooltip": null,
            "layout": "IPY_MODEL_33f8c0fe9c6742dabc2b65feaa078bbd",
            "placeholder": "​",
            "style": "IPY_MODEL_19af661e1dd7492e898d22ef2661e7ba",
            "value": " 483/483 [00:00&lt;00:00, 12.3kB/s]"
          }
        },
        "29ed03c9b6834f93a0a7627dd960c6a9": {
          "model_module": "@jupyter-widgets/base",
          "model_name": "LayoutModel",
          "model_module_version": "1.2.0",
          "state": {
            "_model_module": "@jupyter-widgets/base",
            "_model_module_version": "1.2.0",
            "_model_name": "LayoutModel",
            "_view_count": null,
            "_view_module": "@jupyter-widgets/base",
            "_view_module_version": "1.2.0",
            "_view_name": "LayoutView",
            "align_content": null,
            "align_items": null,
            "align_self": null,
            "border": null,
            "bottom": null,
            "display": null,
            "flex": null,
            "flex_flow": null,
            "grid_area": null,
            "grid_auto_columns": null,
            "grid_auto_flow": null,
            "grid_auto_rows": null,
            "grid_column": null,
            "grid_gap": null,
            "grid_row": null,
            "grid_template_areas": null,
            "grid_template_columns": null,
            "grid_template_rows": null,
            "height": null,
            "justify_content": null,
            "justify_items": null,
            "left": null,
            "margin": null,
            "max_height": null,
            "max_width": null,
            "min_height": null,
            "min_width": null,
            "object_fit": null,
            "object_position": null,
            "order": null,
            "overflow": null,
            "overflow_x": null,
            "overflow_y": null,
            "padding": null,
            "right": null,
            "top": null,
            "visibility": null,
            "width": null
          }
        },
        "8af018d2fd8d431d836a3b8b3e659b76": {
          "model_module": "@jupyter-widgets/base",
          "model_name": "LayoutModel",
          "model_module_version": "1.2.0",
          "state": {
            "_model_module": "@jupyter-widgets/base",
            "_model_module_version": "1.2.0",
            "_model_name": "LayoutModel",
            "_view_count": null,
            "_view_module": "@jupyter-widgets/base",
            "_view_module_version": "1.2.0",
            "_view_name": "LayoutView",
            "align_content": null,
            "align_items": null,
            "align_self": null,
            "border": null,
            "bottom": null,
            "display": null,
            "flex": null,
            "flex_flow": null,
            "grid_area": null,
            "grid_auto_columns": null,
            "grid_auto_flow": null,
            "grid_auto_rows": null,
            "grid_column": null,
            "grid_gap": null,
            "grid_row": null,
            "grid_template_areas": null,
            "grid_template_columns": null,
            "grid_template_rows": null,
            "height": null,
            "justify_content": null,
            "justify_items": null,
            "left": null,
            "margin": null,
            "max_height": null,
            "max_width": null,
            "min_height": null,
            "min_width": null,
            "object_fit": null,
            "object_position": null,
            "order": null,
            "overflow": null,
            "overflow_x": null,
            "overflow_y": null,
            "padding": null,
            "right": null,
            "top": null,
            "visibility": null,
            "width": null
          }
        },
        "532ae4c6fc264d6c9eb7f44454e23ea3": {
          "model_module": "@jupyter-widgets/controls",
          "model_name": "DescriptionStyleModel",
          "model_module_version": "1.5.0",
          "state": {
            "_model_module": "@jupyter-widgets/controls",
            "_model_module_version": "1.5.0",
            "_model_name": "DescriptionStyleModel",
            "_view_count": null,
            "_view_module": "@jupyter-widgets/base",
            "_view_module_version": "1.2.0",
            "_view_name": "StyleView",
            "description_width": ""
          }
        },
        "f4727a5c6ea34764bb3afa382f5bf4f8": {
          "model_module": "@jupyter-widgets/base",
          "model_name": "LayoutModel",
          "model_module_version": "1.2.0",
          "state": {
            "_model_module": "@jupyter-widgets/base",
            "_model_module_version": "1.2.0",
            "_model_name": "LayoutModel",
            "_view_count": null,
            "_view_module": "@jupyter-widgets/base",
            "_view_module_version": "1.2.0",
            "_view_name": "LayoutView",
            "align_content": null,
            "align_items": null,
            "align_self": null,
            "border": null,
            "bottom": null,
            "display": null,
            "flex": null,
            "flex_flow": null,
            "grid_area": null,
            "grid_auto_columns": null,
            "grid_auto_flow": null,
            "grid_auto_rows": null,
            "grid_column": null,
            "grid_gap": null,
            "grid_row": null,
            "grid_template_areas": null,
            "grid_template_columns": null,
            "grid_template_rows": null,
            "height": null,
            "justify_content": null,
            "justify_items": null,
            "left": null,
            "margin": null,
            "max_height": null,
            "max_width": null,
            "min_height": null,
            "min_width": null,
            "object_fit": null,
            "object_position": null,
            "order": null,
            "overflow": null,
            "overflow_x": null,
            "overflow_y": null,
            "padding": null,
            "right": null,
            "top": null,
            "visibility": null,
            "width": null
          }
        },
        "4761bfcdc25749d5a02e843c126a34ff": {
          "model_module": "@jupyter-widgets/controls",
          "model_name": "ProgressStyleModel",
          "model_module_version": "1.5.0",
          "state": {
            "_model_module": "@jupyter-widgets/controls",
            "_model_module_version": "1.5.0",
            "_model_name": "ProgressStyleModel",
            "_view_count": null,
            "_view_module": "@jupyter-widgets/base",
            "_view_module_version": "1.2.0",
            "_view_name": "StyleView",
            "bar_color": null,
            "description_width": ""
          }
        },
        "33f8c0fe9c6742dabc2b65feaa078bbd": {
          "model_module": "@jupyter-widgets/base",
          "model_name": "LayoutModel",
          "model_module_version": "1.2.0",
          "state": {
            "_model_module": "@jupyter-widgets/base",
            "_model_module_version": "1.2.0",
            "_model_name": "LayoutModel",
            "_view_count": null,
            "_view_module": "@jupyter-widgets/base",
            "_view_module_version": "1.2.0",
            "_view_name": "LayoutView",
            "align_content": null,
            "align_items": null,
            "align_self": null,
            "border": null,
            "bottom": null,
            "display": null,
            "flex": null,
            "flex_flow": null,
            "grid_area": null,
            "grid_auto_columns": null,
            "grid_auto_flow": null,
            "grid_auto_rows": null,
            "grid_column": null,
            "grid_gap": null,
            "grid_row": null,
            "grid_template_areas": null,
            "grid_template_columns": null,
            "grid_template_rows": null,
            "height": null,
            "justify_content": null,
            "justify_items": null,
            "left": null,
            "margin": null,
            "max_height": null,
            "max_width": null,
            "min_height": null,
            "min_width": null,
            "object_fit": null,
            "object_position": null,
            "order": null,
            "overflow": null,
            "overflow_x": null,
            "overflow_y": null,
            "padding": null,
            "right": null,
            "top": null,
            "visibility": null,
            "width": null
          }
        },
        "19af661e1dd7492e898d22ef2661e7ba": {
          "model_module": "@jupyter-widgets/controls",
          "model_name": "DescriptionStyleModel",
          "model_module_version": "1.5.0",
          "state": {
            "_model_module": "@jupyter-widgets/controls",
            "_model_module_version": "1.5.0",
            "_model_name": "DescriptionStyleModel",
            "_view_count": null,
            "_view_module": "@jupyter-widgets/base",
            "_view_module_version": "1.2.0",
            "_view_name": "StyleView",
            "description_width": ""
          }
        },
        "4156a3a9220a4f9fb7cc54e45acbaba2": {
          "model_module": "@jupyter-widgets/controls",
          "model_name": "HBoxModel",
          "model_module_version": "1.5.0",
          "state": {
            "_dom_classes": [],
            "_model_module": "@jupyter-widgets/controls",
            "_model_module_version": "1.5.0",
            "_model_name": "HBoxModel",
            "_view_count": null,
            "_view_module": "@jupyter-widgets/controls",
            "_view_module_version": "1.5.0",
            "_view_name": "HBoxView",
            "box_style": "",
            "children": [
              "IPY_MODEL_dd61f25896e34478827781334a315f2b",
              "IPY_MODEL_7f18354f45fd4e5988ca51be4b5a74dc",
              "IPY_MODEL_49b8367cd86f4433a67cfae8013a913c"
            ],
            "layout": "IPY_MODEL_74d83798271e4bd69507a7edcbadf774"
          }
        },
        "dd61f25896e34478827781334a315f2b": {
          "model_module": "@jupyter-widgets/controls",
          "model_name": "HTMLModel",
          "model_module_version": "1.5.0",
          "state": {
            "_dom_classes": [],
            "_model_module": "@jupyter-widgets/controls",
            "_model_module_version": "1.5.0",
            "_model_name": "HTMLModel",
            "_view_count": null,
            "_view_module": "@jupyter-widgets/controls",
            "_view_module_version": "1.5.0",
            "_view_name": "HTMLView",
            "description": "",
            "description_tooltip": null,
            "layout": "IPY_MODEL_1f46e02fd23745e091ff5709c9396d57",
            "placeholder": "​",
            "style": "IPY_MODEL_4ce80871a4474e1795554bb0f5ebdae6",
            "value": "Downloading: 100%"
          }
        },
        "7f18354f45fd4e5988ca51be4b5a74dc": {
          "model_module": "@jupyter-widgets/controls",
          "model_name": "FloatProgressModel",
          "model_module_version": "1.5.0",
          "state": {
            "_dom_classes": [],
            "_model_module": "@jupyter-widgets/controls",
            "_model_module_version": "1.5.0",
            "_model_name": "FloatProgressModel",
            "_view_count": null,
            "_view_module": "@jupyter-widgets/controls",
            "_view_module_version": "1.5.0",
            "_view_name": "ProgressView",
            "bar_style": "success",
            "description": "",
            "description_tooltip": null,
            "layout": "IPY_MODEL_022e56bdd58e4393bfc718dd226f23c7",
            "max": 267967963,
            "min": 0,
            "orientation": "horizontal",
            "style": "IPY_MODEL_c0aa9b47f7a7449e9100cddef856f513",
            "value": 267967963
          }
        },
        "49b8367cd86f4433a67cfae8013a913c": {
          "model_module": "@jupyter-widgets/controls",
          "model_name": "HTMLModel",
          "model_module_version": "1.5.0",
          "state": {
            "_dom_classes": [],
            "_model_module": "@jupyter-widgets/controls",
            "_model_module_version": "1.5.0",
            "_model_name": "HTMLModel",
            "_view_count": null,
            "_view_module": "@jupyter-widgets/controls",
            "_view_module_version": "1.5.0",
            "_view_name": "HTMLView",
            "description": "",
            "description_tooltip": null,
            "layout": "IPY_MODEL_cd311f9b104247049566298c49a87c7b",
            "placeholder": "​",
            "style": "IPY_MODEL_90f611685bb040aa926af891a660c29f",
            "value": " 268M/268M [00:10&lt;00:00, 22.1MB/s]"
          }
        },
        "74d83798271e4bd69507a7edcbadf774": {
          "model_module": "@jupyter-widgets/base",
          "model_name": "LayoutModel",
          "model_module_version": "1.2.0",
          "state": {
            "_model_module": "@jupyter-widgets/base",
            "_model_module_version": "1.2.0",
            "_model_name": "LayoutModel",
            "_view_count": null,
            "_view_module": "@jupyter-widgets/base",
            "_view_module_version": "1.2.0",
            "_view_name": "LayoutView",
            "align_content": null,
            "align_items": null,
            "align_self": null,
            "border": null,
            "bottom": null,
            "display": null,
            "flex": null,
            "flex_flow": null,
            "grid_area": null,
            "grid_auto_columns": null,
            "grid_auto_flow": null,
            "grid_auto_rows": null,
            "grid_column": null,
            "grid_gap": null,
            "grid_row": null,
            "grid_template_areas": null,
            "grid_template_columns": null,
            "grid_template_rows": null,
            "height": null,
            "justify_content": null,
            "justify_items": null,
            "left": null,
            "margin": null,
            "max_height": null,
            "max_width": null,
            "min_height": null,
            "min_width": null,
            "object_fit": null,
            "object_position": null,
            "order": null,
            "overflow": null,
            "overflow_x": null,
            "overflow_y": null,
            "padding": null,
            "right": null,
            "top": null,
            "visibility": null,
            "width": null
          }
        },
        "1f46e02fd23745e091ff5709c9396d57": {
          "model_module": "@jupyter-widgets/base",
          "model_name": "LayoutModel",
          "model_module_version": "1.2.0",
          "state": {
            "_model_module": "@jupyter-widgets/base",
            "_model_module_version": "1.2.0",
            "_model_name": "LayoutModel",
            "_view_count": null,
            "_view_module": "@jupyter-widgets/base",
            "_view_module_version": "1.2.0",
            "_view_name": "LayoutView",
            "align_content": null,
            "align_items": null,
            "align_self": null,
            "border": null,
            "bottom": null,
            "display": null,
            "flex": null,
            "flex_flow": null,
            "grid_area": null,
            "grid_auto_columns": null,
            "grid_auto_flow": null,
            "grid_auto_rows": null,
            "grid_column": null,
            "grid_gap": null,
            "grid_row": null,
            "grid_template_areas": null,
            "grid_template_columns": null,
            "grid_template_rows": null,
            "height": null,
            "justify_content": null,
            "justify_items": null,
            "left": null,
            "margin": null,
            "max_height": null,
            "max_width": null,
            "min_height": null,
            "min_width": null,
            "object_fit": null,
            "object_position": null,
            "order": null,
            "overflow": null,
            "overflow_x": null,
            "overflow_y": null,
            "padding": null,
            "right": null,
            "top": null,
            "visibility": null,
            "width": null
          }
        },
        "4ce80871a4474e1795554bb0f5ebdae6": {
          "model_module": "@jupyter-widgets/controls",
          "model_name": "DescriptionStyleModel",
          "model_module_version": "1.5.0",
          "state": {
            "_model_module": "@jupyter-widgets/controls",
            "_model_module_version": "1.5.0",
            "_model_name": "DescriptionStyleModel",
            "_view_count": null,
            "_view_module": "@jupyter-widgets/base",
            "_view_module_version": "1.2.0",
            "_view_name": "StyleView",
            "description_width": ""
          }
        },
        "022e56bdd58e4393bfc718dd226f23c7": {
          "model_module": "@jupyter-widgets/base",
          "model_name": "LayoutModel",
          "model_module_version": "1.2.0",
          "state": {
            "_model_module": "@jupyter-widgets/base",
            "_model_module_version": "1.2.0",
            "_model_name": "LayoutModel",
            "_view_count": null,
            "_view_module": "@jupyter-widgets/base",
            "_view_module_version": "1.2.0",
            "_view_name": "LayoutView",
            "align_content": null,
            "align_items": null,
            "align_self": null,
            "border": null,
            "bottom": null,
            "display": null,
            "flex": null,
            "flex_flow": null,
            "grid_area": null,
            "grid_auto_columns": null,
            "grid_auto_flow": null,
            "grid_auto_rows": null,
            "grid_column": null,
            "grid_gap": null,
            "grid_row": null,
            "grid_template_areas": null,
            "grid_template_columns": null,
            "grid_template_rows": null,
            "height": null,
            "justify_content": null,
            "justify_items": null,
            "left": null,
            "margin": null,
            "max_height": null,
            "max_width": null,
            "min_height": null,
            "min_width": null,
            "object_fit": null,
            "object_position": null,
            "order": null,
            "overflow": null,
            "overflow_x": null,
            "overflow_y": null,
            "padding": null,
            "right": null,
            "top": null,
            "visibility": null,
            "width": null
          }
        },
        "c0aa9b47f7a7449e9100cddef856f513": {
          "model_module": "@jupyter-widgets/controls",
          "model_name": "ProgressStyleModel",
          "model_module_version": "1.5.0",
          "state": {
            "_model_module": "@jupyter-widgets/controls",
            "_model_module_version": "1.5.0",
            "_model_name": "ProgressStyleModel",
            "_view_count": null,
            "_view_module": "@jupyter-widgets/base",
            "_view_module_version": "1.2.0",
            "_view_name": "StyleView",
            "bar_color": null,
            "description_width": ""
          }
        },
        "cd311f9b104247049566298c49a87c7b": {
          "model_module": "@jupyter-widgets/base",
          "model_name": "LayoutModel",
          "model_module_version": "1.2.0",
          "state": {
            "_model_module": "@jupyter-widgets/base",
            "_model_module_version": "1.2.0",
            "_model_name": "LayoutModel",
            "_view_count": null,
            "_view_module": "@jupyter-widgets/base",
            "_view_module_version": "1.2.0",
            "_view_name": "LayoutView",
            "align_content": null,
            "align_items": null,
            "align_self": null,
            "border": null,
            "bottom": null,
            "display": null,
            "flex": null,
            "flex_flow": null,
            "grid_area": null,
            "grid_auto_columns": null,
            "grid_auto_flow": null,
            "grid_auto_rows": null,
            "grid_column": null,
            "grid_gap": null,
            "grid_row": null,
            "grid_template_areas": null,
            "grid_template_columns": null,
            "grid_template_rows": null,
            "height": null,
            "justify_content": null,
            "justify_items": null,
            "left": null,
            "margin": null,
            "max_height": null,
            "max_width": null,
            "min_height": null,
            "min_width": null,
            "object_fit": null,
            "object_position": null,
            "order": null,
            "overflow": null,
            "overflow_x": null,
            "overflow_y": null,
            "padding": null,
            "right": null,
            "top": null,
            "visibility": null,
            "width": null
          }
        },
        "90f611685bb040aa926af891a660c29f": {
          "model_module": "@jupyter-widgets/controls",
          "model_name": "DescriptionStyleModel",
          "model_module_version": "1.5.0",
          "state": {
            "_model_module": "@jupyter-widgets/controls",
            "_model_module_version": "1.5.0",
            "_model_name": "DescriptionStyleModel",
            "_view_count": null,
            "_view_module": "@jupyter-widgets/base",
            "_view_module_version": "1.2.0",
            "_view_name": "StyleView",
            "description_width": ""
          }
        }
      }
    }
  },
  "cells": [
    {
      "cell_type": "markdown",
      "source": [
        "# fastner \n",
        "*fastner* is a Python package to finetune transformer-based models for the Named Entity Recognition task in a simple and fast way.\n"
      ],
      "metadata": {
        "id": "uDNPmXTIfGmT"
      }
    },
    {
      "cell_type": "code",
      "source": [
        "!pip install --upgrade fastner"
      ],
      "metadata": {
        "id": "YtdNXdTJc6da"
      },
      "execution_count": null,
      "outputs": []
    },
    {
      "cell_type": "code",
      "source": [
        "import pandas as pd\n",
        "from ast import literal_eval \n",
        "\n",
        "from transformers import TrainingArguments, EarlyStoppingCallback\n",
        "from fastner import train_test"
      ],
      "metadata": {
        "id": "7ETa9OGZfWUr",
        "colab": {
          "base_uri": "https://localhost:8080/",
          "height": 104,
          "referenced_widgets": [
            "2814e081c7f047b1ba2d213a04adcde4",
            "42a1ff8b23ab40fbbf0b089e465db5e2",
            "4c0ccf25d5e1490993330553ef4e6fc0",
            "edbb5c0465d54efb8f7109aaa889b4dd",
            "3b2d01ebd029477bba17d20e2840af76",
            "935b087c668b4bd1ad9aa1f61ad5a23c",
            "2edaaf0b83484a4ea4b8833ba838b52d",
            "da35f87408c649e8a0edd5a91a62fc2b",
            "8eae2fb2fa2d4d4e933782ed935ad273",
            "172a1c1bda794b0a9c7bc625661a5c8b",
            "28f93aaffe824fe98a5a35b31386bfab"
          ]
        },
        "outputId": "c6491d6e-34c0-4eb2-8a81-64dd2a6e3543"
      },
      "execution_count": 2,
      "outputs": [
        {
          "output_type": "stream",
          "name": "stderr",
          "text": [
            "/usr/local/lib/python3.7/dist-packages/fastner/training.py:15: FutureWarning: load_metric is deprecated and will be removed in the next major version of datasets. Use 'evaluate.load' instead, from the new library 🤗 Evaluate: https://huggingface.co/docs/evaluate\n",
            "  metric = load_metric(\"seqeval\")\n"
          ]
        },
        {
          "output_type": "display_data",
          "data": {
            "text/plain": [
              "Downloading builder script:   0%|          | 0.00/2.47k [00:00<?, ?B/s]"
            ],
            "application/vnd.jupyter.widget-view+json": {
              "version_major": 2,
              "version_minor": 0,
              "model_id": "2814e081c7f047b1ba2d213a04adcde4"
            }
          },
          "metadata": {}
        }
      ]
    },
    {
      "cell_type": "markdown",
      "source": [
        "## Check dataset and tagging scheme\n",
        "\n",
        "**Dataset scheme**\n",
        "\n",
        "The datasets given as input (train, validation, test) must have two columns named:\n",
        "\n",
        "* *tokens*: contains the tokens of the several examples\n",
        "* *tags*: contains the labels of the respective tokens\n",
        "\n",
        "\n",
        "**Tagging scheme**\n",
        "\n",
        "The labels of the dataset given as input must comply with the tagging scheme:\n",
        "\n",
        "* IOB (Inside, Outside, Beginning), also known as BIO"
      ],
      "metadata": {
        "id": "z5SwbubmfYTB"
      }
    },
    {
      "cell_type": "markdown",
      "source": [
        "Training set"
      ],
      "metadata": {
        "id": "hURop6kQkRiP"
      }
    },
    {
      "cell_type": "code",
      "source": [
        "conll2003_train = pd.read_csv('./dataset/conll2003/conll2003_train.csv', index_col=0, converters={'tags': literal_eval, 'tokens': literal_eval}).reset_index()\n",
        "\n",
        "conll2003_train[:5]"
      ],
      "metadata": {
        "colab": {
          "base_uri": "https://localhost:8080/",
          "height": 206
        },
        "id": "dR9W-XcbkDFo",
        "outputId": "5d3bb6cd-7451-4cea-b00d-4df738733edb"
      },
      "execution_count": 3,
      "outputs": [
        {
          "output_type": "execute_result",
          "data": {
            "text/plain": [
              "   index                                             tokens  \\\n",
              "0      0  [EU, rejects, German, call, to, boycott, Briti...   \n",
              "1      1                                 [Peter, Blackburn]   \n",
              "2      2                             [BRUSSELS, 1996-08-22]   \n",
              "3      3  [The, European, Commission, said, on, Thursday...   \n",
              "4      4  [Germany, 's, representative, to, the, Europea...   \n",
              "\n",
              "                                                tags  \n",
              "0          [B-ORG, O, B-MISC, O, O, O, B-MISC, O, O]  \n",
              "1                                     [B-PER, I-PER]  \n",
              "2                                         [B-LOC, O]  \n",
              "3  [O, B-ORG, I-ORG, O, O, O, O, O, O, B-MISC, O,...  \n",
              "4  [B-LOC, O, O, O, O, B-ORG, I-ORG, O, O, O, B-P...  "
            ],
            "text/html": [
              "\n",
              "  <div id=\"df-6b365ca2-4708-429f-9be7-5b470805c0bf\">\n",
              "    <div class=\"colab-df-container\">\n",
              "      <div>\n",
              "<style scoped>\n",
              "    .dataframe tbody tr th:only-of-type {\n",
              "        vertical-align: middle;\n",
              "    }\n",
              "\n",
              "    .dataframe tbody tr th {\n",
              "        vertical-align: top;\n",
              "    }\n",
              "\n",
              "    .dataframe thead th {\n",
              "        text-align: right;\n",
              "    }\n",
              "</style>\n",
              "<table border=\"1\" class=\"dataframe\">\n",
              "  <thead>\n",
              "    <tr style=\"text-align: right;\">\n",
              "      <th></th>\n",
              "      <th>index</th>\n",
              "      <th>tokens</th>\n",
              "      <th>tags</th>\n",
              "    </tr>\n",
              "  </thead>\n",
              "  <tbody>\n",
              "    <tr>\n",
              "      <th>0</th>\n",
              "      <td>0</td>\n",
              "      <td>[EU, rejects, German, call, to, boycott, Briti...</td>\n",
              "      <td>[B-ORG, O, B-MISC, O, O, O, B-MISC, O, O]</td>\n",
              "    </tr>\n",
              "    <tr>\n",
              "      <th>1</th>\n",
              "      <td>1</td>\n",
              "      <td>[Peter, Blackburn]</td>\n",
              "      <td>[B-PER, I-PER]</td>\n",
              "    </tr>\n",
              "    <tr>\n",
              "      <th>2</th>\n",
              "      <td>2</td>\n",
              "      <td>[BRUSSELS, 1996-08-22]</td>\n",
              "      <td>[B-LOC, O]</td>\n",
              "    </tr>\n",
              "    <tr>\n",
              "      <th>3</th>\n",
              "      <td>3</td>\n",
              "      <td>[The, European, Commission, said, on, Thursday...</td>\n",
              "      <td>[O, B-ORG, I-ORG, O, O, O, O, O, O, B-MISC, O,...</td>\n",
              "    </tr>\n",
              "    <tr>\n",
              "      <th>4</th>\n",
              "      <td>4</td>\n",
              "      <td>[Germany, 's, representative, to, the, Europea...</td>\n",
              "      <td>[B-LOC, O, O, O, O, B-ORG, I-ORG, O, O, O, B-P...</td>\n",
              "    </tr>\n",
              "  </tbody>\n",
              "</table>\n",
              "</div>\n",
              "      <button class=\"colab-df-convert\" onclick=\"convertToInteractive('df-6b365ca2-4708-429f-9be7-5b470805c0bf')\"\n",
              "              title=\"Convert this dataframe to an interactive table.\"\n",
              "              style=\"display:none;\">\n",
              "        \n",
              "  <svg xmlns=\"http://www.w3.org/2000/svg\" height=\"24px\"viewBox=\"0 0 24 24\"\n",
              "       width=\"24px\">\n",
              "    <path d=\"M0 0h24v24H0V0z\" fill=\"none\"/>\n",
              "    <path d=\"M18.56 5.44l.94 2.06.94-2.06 2.06-.94-2.06-.94-.94-2.06-.94 2.06-2.06.94zm-11 1L8.5 8.5l.94-2.06 2.06-.94-2.06-.94L8.5 2.5l-.94 2.06-2.06.94zm10 10l.94 2.06.94-2.06 2.06-.94-2.06-.94-.94-2.06-.94 2.06-2.06.94z\"/><path d=\"M17.41 7.96l-1.37-1.37c-.4-.4-.92-.59-1.43-.59-.52 0-1.04.2-1.43.59L10.3 9.45l-7.72 7.72c-.78.78-.78 2.05 0 2.83L4 21.41c.39.39.9.59 1.41.59.51 0 1.02-.2 1.41-.59l7.78-7.78 2.81-2.81c.8-.78.8-2.07 0-2.86zM5.41 20L4 18.59l7.72-7.72 1.47 1.35L5.41 20z\"/>\n",
              "  </svg>\n",
              "      </button>\n",
              "      \n",
              "  <style>\n",
              "    .colab-df-container {\n",
              "      display:flex;\n",
              "      flex-wrap:wrap;\n",
              "      gap: 12px;\n",
              "    }\n",
              "\n",
              "    .colab-df-convert {\n",
              "      background-color: #E8F0FE;\n",
              "      border: none;\n",
              "      border-radius: 50%;\n",
              "      cursor: pointer;\n",
              "      display: none;\n",
              "      fill: #1967D2;\n",
              "      height: 32px;\n",
              "      padding: 0 0 0 0;\n",
              "      width: 32px;\n",
              "    }\n",
              "\n",
              "    .colab-df-convert:hover {\n",
              "      background-color: #E2EBFA;\n",
              "      box-shadow: 0px 1px 2px rgba(60, 64, 67, 0.3), 0px 1px 3px 1px rgba(60, 64, 67, 0.15);\n",
              "      fill: #174EA6;\n",
              "    }\n",
              "\n",
              "    [theme=dark] .colab-df-convert {\n",
              "      background-color: #3B4455;\n",
              "      fill: #D2E3FC;\n",
              "    }\n",
              "\n",
              "    [theme=dark] .colab-df-convert:hover {\n",
              "      background-color: #434B5C;\n",
              "      box-shadow: 0px 1px 3px 1px rgba(0, 0, 0, 0.15);\n",
              "      filter: drop-shadow(0px 1px 2px rgba(0, 0, 0, 0.3));\n",
              "      fill: #FFFFFF;\n",
              "    }\n",
              "  </style>\n",
              "\n",
              "      <script>\n",
              "        const buttonEl =\n",
              "          document.querySelector('#df-6b365ca2-4708-429f-9be7-5b470805c0bf button.colab-df-convert');\n",
              "        buttonEl.style.display =\n",
              "          google.colab.kernel.accessAllowed ? 'block' : 'none';\n",
              "\n",
              "        async function convertToInteractive(key) {\n",
              "          const element = document.querySelector('#df-6b365ca2-4708-429f-9be7-5b470805c0bf');\n",
              "          const dataTable =\n",
              "            await google.colab.kernel.invokeFunction('convertToInteractive',\n",
              "                                                     [key], {});\n",
              "          if (!dataTable) return;\n",
              "\n",
              "          const docLinkHtml = 'Like what you see? Visit the ' +\n",
              "            '<a target=\"_blank\" href=https://colab.research.google.com/notebooks/data_table.ipynb>data table notebook</a>'\n",
              "            + ' to learn more about interactive tables.';\n",
              "          element.innerHTML = '';\n",
              "          dataTable['output_type'] = 'display_data';\n",
              "          await google.colab.output.renderOutput(dataTable, element);\n",
              "          const docLink = document.createElement('div');\n",
              "          docLink.innerHTML = docLinkHtml;\n",
              "          element.appendChild(docLink);\n",
              "        }\n",
              "      </script>\n",
              "    </div>\n",
              "  </div>\n",
              "  "
            ]
          },
          "metadata": {},
          "execution_count": 3
        }
      ]
    },
    {
      "cell_type": "markdown",
      "source": [
        "Validation set"
      ],
      "metadata": {
        "id": "TCnD7fA5kTRO"
      }
    },
    {
      "cell_type": "code",
      "source": [
        "conll2003_val = pd.read_csv('./dataset/conll2003/conll2003_val.csv', index_col=0, converters={'tags': literal_eval, 'tokens': literal_eval}).reset_index()\n",
        "\n",
        "conll2003_val[:5]"
      ],
      "metadata": {
        "colab": {
          "base_uri": "https://localhost:8080/",
          "height": 206
        },
        "id": "ayYOYae0kVxL",
        "outputId": "cccddeed-c4c4-42b4-c235-bf1444cd47d3"
      },
      "execution_count": 4,
      "outputs": [
        {
          "output_type": "execute_result",
          "data": {
            "text/plain": [
              "   index                                             tokens  \\\n",
              "0      0  [CRICKET, -, LEICESTERSHIRE, TAKE, OVER, AT, T...   \n",
              "1      1                               [LONDON, 1996-08-30]   \n",
              "2      2  [West, Indian, all-rounder, Phil, Simmons, too...   \n",
              "3      3  [Their, stay, on, top, ,, though, ,, may, be, ...   \n",
              "4      4  [After, bowling, Somerset, out, for, 83, on, t...   \n",
              "\n",
              "                                                tags  \n",
              "0              [O, O, B-ORG, O, O, O, O, O, O, O, O]  \n",
              "1                                         [B-LOC, O]  \n",
              "2  [B-MISC, I-MISC, O, B-PER, I-PER, O, O, O, O, ...  \n",
              "3  [O, O, O, O, O, O, O, O, O, O, O, O, O, B-ORG,...  \n",
              "4  [O, O, B-ORG, O, O, O, O, O, O, O, O, B-LOC, I...  "
            ],
            "text/html": [
              "\n",
              "  <div id=\"df-c1b6129d-e01b-484a-b7f1-c045d80327b9\">\n",
              "    <div class=\"colab-df-container\">\n",
              "      <div>\n",
              "<style scoped>\n",
              "    .dataframe tbody tr th:only-of-type {\n",
              "        vertical-align: middle;\n",
              "    }\n",
              "\n",
              "    .dataframe tbody tr th {\n",
              "        vertical-align: top;\n",
              "    }\n",
              "\n",
              "    .dataframe thead th {\n",
              "        text-align: right;\n",
              "    }\n",
              "</style>\n",
              "<table border=\"1\" class=\"dataframe\">\n",
              "  <thead>\n",
              "    <tr style=\"text-align: right;\">\n",
              "      <th></th>\n",
              "      <th>index</th>\n",
              "      <th>tokens</th>\n",
              "      <th>tags</th>\n",
              "    </tr>\n",
              "  </thead>\n",
              "  <tbody>\n",
              "    <tr>\n",
              "      <th>0</th>\n",
              "      <td>0</td>\n",
              "      <td>[CRICKET, -, LEICESTERSHIRE, TAKE, OVER, AT, T...</td>\n",
              "      <td>[O, O, B-ORG, O, O, O, O, O, O, O, O]</td>\n",
              "    </tr>\n",
              "    <tr>\n",
              "      <th>1</th>\n",
              "      <td>1</td>\n",
              "      <td>[LONDON, 1996-08-30]</td>\n",
              "      <td>[B-LOC, O]</td>\n",
              "    </tr>\n",
              "    <tr>\n",
              "      <th>2</th>\n",
              "      <td>2</td>\n",
              "      <td>[West, Indian, all-rounder, Phil, Simmons, too...</td>\n",
              "      <td>[B-MISC, I-MISC, O, B-PER, I-PER, O, O, O, O, ...</td>\n",
              "    </tr>\n",
              "    <tr>\n",
              "      <th>3</th>\n",
              "      <td>3</td>\n",
              "      <td>[Their, stay, on, top, ,, though, ,, may, be, ...</td>\n",
              "      <td>[O, O, O, O, O, O, O, O, O, O, O, O, O, B-ORG,...</td>\n",
              "    </tr>\n",
              "    <tr>\n",
              "      <th>4</th>\n",
              "      <td>4</td>\n",
              "      <td>[After, bowling, Somerset, out, for, 83, on, t...</td>\n",
              "      <td>[O, O, B-ORG, O, O, O, O, O, O, O, O, B-LOC, I...</td>\n",
              "    </tr>\n",
              "  </tbody>\n",
              "</table>\n",
              "</div>\n",
              "      <button class=\"colab-df-convert\" onclick=\"convertToInteractive('df-c1b6129d-e01b-484a-b7f1-c045d80327b9')\"\n",
              "              title=\"Convert this dataframe to an interactive table.\"\n",
              "              style=\"display:none;\">\n",
              "        \n",
              "  <svg xmlns=\"http://www.w3.org/2000/svg\" height=\"24px\"viewBox=\"0 0 24 24\"\n",
              "       width=\"24px\">\n",
              "    <path d=\"M0 0h24v24H0V0z\" fill=\"none\"/>\n",
              "    <path d=\"M18.56 5.44l.94 2.06.94-2.06 2.06-.94-2.06-.94-.94-2.06-.94 2.06-2.06.94zm-11 1L8.5 8.5l.94-2.06 2.06-.94-2.06-.94L8.5 2.5l-.94 2.06-2.06.94zm10 10l.94 2.06.94-2.06 2.06-.94-2.06-.94-.94-2.06-.94 2.06-2.06.94z\"/><path d=\"M17.41 7.96l-1.37-1.37c-.4-.4-.92-.59-1.43-.59-.52 0-1.04.2-1.43.59L10.3 9.45l-7.72 7.72c-.78.78-.78 2.05 0 2.83L4 21.41c.39.39.9.59 1.41.59.51 0 1.02-.2 1.41-.59l7.78-7.78 2.81-2.81c.8-.78.8-2.07 0-2.86zM5.41 20L4 18.59l7.72-7.72 1.47 1.35L5.41 20z\"/>\n",
              "  </svg>\n",
              "      </button>\n",
              "      \n",
              "  <style>\n",
              "    .colab-df-container {\n",
              "      display:flex;\n",
              "      flex-wrap:wrap;\n",
              "      gap: 12px;\n",
              "    }\n",
              "\n",
              "    .colab-df-convert {\n",
              "      background-color: #E8F0FE;\n",
              "      border: none;\n",
              "      border-radius: 50%;\n",
              "      cursor: pointer;\n",
              "      display: none;\n",
              "      fill: #1967D2;\n",
              "      height: 32px;\n",
              "      padding: 0 0 0 0;\n",
              "      width: 32px;\n",
              "    }\n",
              "\n",
              "    .colab-df-convert:hover {\n",
              "      background-color: #E2EBFA;\n",
              "      box-shadow: 0px 1px 2px rgba(60, 64, 67, 0.3), 0px 1px 3px 1px rgba(60, 64, 67, 0.15);\n",
              "      fill: #174EA6;\n",
              "    }\n",
              "\n",
              "    [theme=dark] .colab-df-convert {\n",
              "      background-color: #3B4455;\n",
              "      fill: #D2E3FC;\n",
              "    }\n",
              "\n",
              "    [theme=dark] .colab-df-convert:hover {\n",
              "      background-color: #434B5C;\n",
              "      box-shadow: 0px 1px 3px 1px rgba(0, 0, 0, 0.15);\n",
              "      filter: drop-shadow(0px 1px 2px rgba(0, 0, 0, 0.3));\n",
              "      fill: #FFFFFF;\n",
              "    }\n",
              "  </style>\n",
              "\n",
              "      <script>\n",
              "        const buttonEl =\n",
              "          document.querySelector('#df-c1b6129d-e01b-484a-b7f1-c045d80327b9 button.colab-df-convert');\n",
              "        buttonEl.style.display =\n",
              "          google.colab.kernel.accessAllowed ? 'block' : 'none';\n",
              "\n",
              "        async function convertToInteractive(key) {\n",
              "          const element = document.querySelector('#df-c1b6129d-e01b-484a-b7f1-c045d80327b9');\n",
              "          const dataTable =\n",
              "            await google.colab.kernel.invokeFunction('convertToInteractive',\n",
              "                                                     [key], {});\n",
              "          if (!dataTable) return;\n",
              "\n",
              "          const docLinkHtml = 'Like what you see? Visit the ' +\n",
              "            '<a target=\"_blank\" href=https://colab.research.google.com/notebooks/data_table.ipynb>data table notebook</a>'\n",
              "            + ' to learn more about interactive tables.';\n",
              "          element.innerHTML = '';\n",
              "          dataTable['output_type'] = 'display_data';\n",
              "          await google.colab.output.renderOutput(dataTable, element);\n",
              "          const docLink = document.createElement('div');\n",
              "          docLink.innerHTML = docLinkHtml;\n",
              "          element.appendChild(docLink);\n",
              "        }\n",
              "      </script>\n",
              "    </div>\n",
              "  </div>\n",
              "  "
            ]
          },
          "metadata": {},
          "execution_count": 4
        }
      ]
    },
    {
      "cell_type": "markdown",
      "source": [
        "Test set"
      ],
      "metadata": {
        "id": "x26_WrOrkUir"
      }
    },
    {
      "cell_type": "code",
      "source": [
        "conll2003_test = pd.read_csv('./dataset/conll2003/conll2003_test.csv', index_col=0, converters={'tags': literal_eval, 'tokens': literal_eval}).reset_index()\n",
        "conll2003_test[:5]"
      ],
      "metadata": {
        "colab": {
          "base_uri": "https://localhost:8080/",
          "height": 206
        },
        "id": "uSYjQMkXkcLV",
        "outputId": "1e8e0e62-14d8-498b-eee2-d044963557a4"
      },
      "execution_count": 5,
      "outputs": [
        {
          "output_type": "execute_result",
          "data": {
            "text/plain": [
              "   index                                             tokens  \\\n",
              "0      0  [SOCCER, -, JAPAN, GET, LUCKY, WIN, ,, CHINA, ...   \n",
              "1      1                                     [Nadim, Ladki]   \n",
              "2      2    [AL-AIN, ,, United, Arab, Emirates, 1996-12-06]   \n",
              "3      3  [Japan, began, the, defence, of, their, Asian,...   \n",
              "4      4  [But, China, saw, their, luck, desert, them, i...   \n",
              "\n",
              "                                                tags  \n",
              "0       [O, O, B-LOC, O, O, O, O, B-PER, O, O, O, O]  \n",
              "1                                     [B-PER, I-PER]  \n",
              "2                 [B-LOC, O, B-LOC, I-LOC, I-LOC, O]  \n",
              "3  [B-LOC, O, O, O, O, O, B-MISC, I-MISC, O, O, O...  \n",
              "4  [O, B-LOC, O, O, O, O, O, O, O, O, O, O, O, O,...  "
            ],
            "text/html": [
              "\n",
              "  <div id=\"df-bcd7d1cf-c5b1-4d00-bd33-29e2b854b7b4\">\n",
              "    <div class=\"colab-df-container\">\n",
              "      <div>\n",
              "<style scoped>\n",
              "    .dataframe tbody tr th:only-of-type {\n",
              "        vertical-align: middle;\n",
              "    }\n",
              "\n",
              "    .dataframe tbody tr th {\n",
              "        vertical-align: top;\n",
              "    }\n",
              "\n",
              "    .dataframe thead th {\n",
              "        text-align: right;\n",
              "    }\n",
              "</style>\n",
              "<table border=\"1\" class=\"dataframe\">\n",
              "  <thead>\n",
              "    <tr style=\"text-align: right;\">\n",
              "      <th></th>\n",
              "      <th>index</th>\n",
              "      <th>tokens</th>\n",
              "      <th>tags</th>\n",
              "    </tr>\n",
              "  </thead>\n",
              "  <tbody>\n",
              "    <tr>\n",
              "      <th>0</th>\n",
              "      <td>0</td>\n",
              "      <td>[SOCCER, -, JAPAN, GET, LUCKY, WIN, ,, CHINA, ...</td>\n",
              "      <td>[O, O, B-LOC, O, O, O, O, B-PER, O, O, O, O]</td>\n",
              "    </tr>\n",
              "    <tr>\n",
              "      <th>1</th>\n",
              "      <td>1</td>\n",
              "      <td>[Nadim, Ladki]</td>\n",
              "      <td>[B-PER, I-PER]</td>\n",
              "    </tr>\n",
              "    <tr>\n",
              "      <th>2</th>\n",
              "      <td>2</td>\n",
              "      <td>[AL-AIN, ,, United, Arab, Emirates, 1996-12-06]</td>\n",
              "      <td>[B-LOC, O, B-LOC, I-LOC, I-LOC, O]</td>\n",
              "    </tr>\n",
              "    <tr>\n",
              "      <th>3</th>\n",
              "      <td>3</td>\n",
              "      <td>[Japan, began, the, defence, of, their, Asian,...</td>\n",
              "      <td>[B-LOC, O, O, O, O, O, B-MISC, I-MISC, O, O, O...</td>\n",
              "    </tr>\n",
              "    <tr>\n",
              "      <th>4</th>\n",
              "      <td>4</td>\n",
              "      <td>[But, China, saw, their, luck, desert, them, i...</td>\n",
              "      <td>[O, B-LOC, O, O, O, O, O, O, O, O, O, O, O, O,...</td>\n",
              "    </tr>\n",
              "  </tbody>\n",
              "</table>\n",
              "</div>\n",
              "      <button class=\"colab-df-convert\" onclick=\"convertToInteractive('df-bcd7d1cf-c5b1-4d00-bd33-29e2b854b7b4')\"\n",
              "              title=\"Convert this dataframe to an interactive table.\"\n",
              "              style=\"display:none;\">\n",
              "        \n",
              "  <svg xmlns=\"http://www.w3.org/2000/svg\" height=\"24px\"viewBox=\"0 0 24 24\"\n",
              "       width=\"24px\">\n",
              "    <path d=\"M0 0h24v24H0V0z\" fill=\"none\"/>\n",
              "    <path d=\"M18.56 5.44l.94 2.06.94-2.06 2.06-.94-2.06-.94-.94-2.06-.94 2.06-2.06.94zm-11 1L8.5 8.5l.94-2.06 2.06-.94-2.06-.94L8.5 2.5l-.94 2.06-2.06.94zm10 10l.94 2.06.94-2.06 2.06-.94-2.06-.94-.94-2.06-.94 2.06-2.06.94z\"/><path d=\"M17.41 7.96l-1.37-1.37c-.4-.4-.92-.59-1.43-.59-.52 0-1.04.2-1.43.59L10.3 9.45l-7.72 7.72c-.78.78-.78 2.05 0 2.83L4 21.41c.39.39.9.59 1.41.59.51 0 1.02-.2 1.41-.59l7.78-7.78 2.81-2.81c.8-.78.8-2.07 0-2.86zM5.41 20L4 18.59l7.72-7.72 1.47 1.35L5.41 20z\"/>\n",
              "  </svg>\n",
              "      </button>\n",
              "      \n",
              "  <style>\n",
              "    .colab-df-container {\n",
              "      display:flex;\n",
              "      flex-wrap:wrap;\n",
              "      gap: 12px;\n",
              "    }\n",
              "\n",
              "    .colab-df-convert {\n",
              "      background-color: #E8F0FE;\n",
              "      border: none;\n",
              "      border-radius: 50%;\n",
              "      cursor: pointer;\n",
              "      display: none;\n",
              "      fill: #1967D2;\n",
              "      height: 32px;\n",
              "      padding: 0 0 0 0;\n",
              "      width: 32px;\n",
              "    }\n",
              "\n",
              "    .colab-df-convert:hover {\n",
              "      background-color: #E2EBFA;\n",
              "      box-shadow: 0px 1px 2px rgba(60, 64, 67, 0.3), 0px 1px 3px 1px rgba(60, 64, 67, 0.15);\n",
              "      fill: #174EA6;\n",
              "    }\n",
              "\n",
              "    [theme=dark] .colab-df-convert {\n",
              "      background-color: #3B4455;\n",
              "      fill: #D2E3FC;\n",
              "    }\n",
              "\n",
              "    [theme=dark] .colab-df-convert:hover {\n",
              "      background-color: #434B5C;\n",
              "      box-shadow: 0px 1px 3px 1px rgba(0, 0, 0, 0.15);\n",
              "      filter: drop-shadow(0px 1px 2px rgba(0, 0, 0, 0.3));\n",
              "      fill: #FFFFFF;\n",
              "    }\n",
              "  </style>\n",
              "\n",
              "      <script>\n",
              "        const buttonEl =\n",
              "          document.querySelector('#df-bcd7d1cf-c5b1-4d00-bd33-29e2b854b7b4 button.colab-df-convert');\n",
              "        buttonEl.style.display =\n",
              "          google.colab.kernel.accessAllowed ? 'block' : 'none';\n",
              "\n",
              "        async function convertToInteractive(key) {\n",
              "          const element = document.querySelector('#df-bcd7d1cf-c5b1-4d00-bd33-29e2b854b7b4');\n",
              "          const dataTable =\n",
              "            await google.colab.kernel.invokeFunction('convertToInteractive',\n",
              "                                                     [key], {});\n",
              "          if (!dataTable) return;\n",
              "\n",
              "          const docLinkHtml = 'Like what you see? Visit the ' +\n",
              "            '<a target=\"_blank\" href=https://colab.research.google.com/notebooks/data_table.ipynb>data table notebook</a>'\n",
              "            + ' to learn more about interactive tables.';\n",
              "          element.innerHTML = '';\n",
              "          dataTable['output_type'] = 'display_data';\n",
              "          await google.colab.output.renderOutput(dataTable, element);\n",
              "          const docLink = document.createElement('div');\n",
              "          docLink.innerHTML = docLinkHtml;\n",
              "          element.appendChild(docLink);\n",
              "        }\n",
              "      </script>\n",
              "    </div>\n",
              "  </div>\n",
              "  "
            ]
          },
          "metadata": {},
          "execution_count": 5
        }
      ]
    },
    {
      "cell_type": "markdown",
      "source": [
        "## Let's finetune"
      ],
      "metadata": {
        "id": "j3IwQK0DffG-"
      }
    },
    {
      "cell_type": "markdown",
      "source": [
        "To finetune our transofrmer-based model we need to:\n",
        "* define the *TrainingArguments* (arguments for the training see [hugginface documentation](https://huggingface.co/docs/transformers/main_classes/trainer#transformers.TrainingArguments))\n",
        "* define the *train_test* arguments of fastner (see [fastner documentation](https://pypi.org/project/fastner/))"
      ],
      "metadata": {
        "id": "MIs1kaoumoCp"
      }
    },
    {
      "cell_type": "code",
      "execution_count": 6,
      "metadata": {
        "id": "KUH2WT7Ec3PB",
        "colab": {
          "base_uri": "https://localhost:8080/",
          "height": 1000,
          "referenced_widgets": [
            "ebec3fcece234be2aab12a91c5f19177",
            "289c3b85ea1c4eab90aff3d30b0e56c3",
            "479f1f53ec984ef69c7356adb6fc6de9",
            "2a4ea05a57824f6f922b7d10699610f7",
            "d3b41dab99224256bfce4d5555aefbf1",
            "8bd79ff2b0ff4b53b28c0859d8b19847",
            "24bc8030c7d64104bd98e3a534d25436",
            "01f8969009914420812e2125300e8612",
            "fcec23b6d13e4898970ccbeb39e613f6",
            "95ea24a8bafd4f68859dac96f553d265",
            "2f2c5474bbac416eb20ae2b28a9e93a2",
            "a882e4e0f1554d279902d64176b8019d",
            "f567e9c13bad439faed7ccc85b81b9a0",
            "6eddee8fe9c64e62b27b7ddd08b967ff",
            "5559635de9b140dcaa8499e4cce109ed",
            "988c108501614f2bbcfdfcc7bf4247e4",
            "677f85d951ec42e997994f2daf5acbd2",
            "216391f2a1c04bb1a307ae82a533d9fd",
            "2297c5979a944dbead3e0387a7c5f1f8",
            "79dcf05022bc4aadb9b5face49995750",
            "bb9c39a376324f388943232ef90c5229",
            "a6e598d1ed694dcf8cf750410a685443",
            "e195ffefa74141d982602bb7eca2b2f3",
            "dcfd4ad3e4554330bef918f9a88ef1ef",
            "f7b5aba89d20410ebbb4a81c4519b8c7",
            "bbe926bd4646416aa1ad9fcebdb42478",
            "29ed03c9b6834f93a0a7627dd960c6a9",
            "8af018d2fd8d431d836a3b8b3e659b76",
            "532ae4c6fc264d6c9eb7f44454e23ea3",
            "f4727a5c6ea34764bb3afa382f5bf4f8",
            "4761bfcdc25749d5a02e843c126a34ff",
            "33f8c0fe9c6742dabc2b65feaa078bbd",
            "19af661e1dd7492e898d22ef2661e7ba",
            "4156a3a9220a4f9fb7cc54e45acbaba2",
            "dd61f25896e34478827781334a315f2b",
            "7f18354f45fd4e5988ca51be4b5a74dc",
            "49b8367cd86f4433a67cfae8013a913c",
            "74d83798271e4bd69507a7edcbadf774",
            "1f46e02fd23745e091ff5709c9396d57",
            "4ce80871a4474e1795554bb0f5ebdae6",
            "022e56bdd58e4393bfc718dd226f23c7",
            "c0aa9b47f7a7449e9100cddef856f513",
            "cd311f9b104247049566298c49a87c7b",
            "90f611685bb040aa926af891a660c29f"
          ]
        },
        "outputId": "626c7445-9d51-4976-fe01-f27a3573719e"
      },
      "outputs": [
        {
          "output_type": "display_data",
          "data": {
            "text/plain": [
              "Downloading:   0%|          | 0.00/232k [00:00<?, ?B/s]"
            ],
            "application/vnd.jupyter.widget-view+json": {
              "version_major": 2,
              "version_minor": 0,
              "model_id": "ebec3fcece234be2aab12a91c5f19177"
            }
          },
          "metadata": {}
        },
        {
          "output_type": "display_data",
          "data": {
            "text/plain": [
              "Downloading:   0%|          | 0.00/28.0 [00:00<?, ?B/s]"
            ],
            "application/vnd.jupyter.widget-view+json": {
              "version_major": 2,
              "version_minor": 0,
              "model_id": "a882e4e0f1554d279902d64176b8019d"
            }
          },
          "metadata": {}
        },
        {
          "output_type": "display_data",
          "data": {
            "text/plain": [
              "Downloading:   0%|          | 0.00/483 [00:00<?, ?B/s]"
            ],
            "application/vnd.jupyter.widget-view+json": {
              "version_major": 2,
              "version_minor": 0,
              "model_id": "e195ffefa74141d982602bb7eca2b2f3"
            }
          },
          "metadata": {}
        },
        {
          "output_type": "stream",
          "name": "stderr",
          "text": [
            "loading configuration file config.json from cache at /root/.cache/huggingface/hub/models--distilbert-base-uncased/snapshots/043235d6088ecd3dd5fb5ca3592b6913fd516027/config.json\n",
            "Model config DistilBertConfig {\n",
            "  \"activation\": \"gelu\",\n",
            "  \"architectures\": [\n",
            "    \"DistilBertForMaskedLM\"\n",
            "  ],\n",
            "  \"attention_dropout\": 0.1,\n",
            "  \"dim\": 768,\n",
            "  \"dropout\": 0.1,\n",
            "  \"hidden_dim\": 3072,\n",
            "  \"id2label\": {\n",
            "    \"0\": \"O\",\n",
            "    \"1\": \"B-LOC\",\n",
            "    \"2\": \"B-MISC\",\n",
            "    \"3\": \"B-ORG\",\n",
            "    \"4\": \"B-PER\",\n",
            "    \"5\": \"I-LOC\",\n",
            "    \"6\": \"I-MISC\",\n",
            "    \"7\": \"I-ORG\",\n",
            "    \"8\": \"I-PER\"\n",
            "  },\n",
            "  \"initializer_range\": 0.02,\n",
            "  \"label2id\": {\n",
            "    \"B-LOC\": 1,\n",
            "    \"B-MISC\": 2,\n",
            "    \"B-ORG\": 3,\n",
            "    \"B-PER\": 4,\n",
            "    \"I-LOC\": 5,\n",
            "    \"I-MISC\": 6,\n",
            "    \"I-ORG\": 7,\n",
            "    \"I-PER\": 8,\n",
            "    \"O\": 0\n",
            "  },\n",
            "  \"max_position_embeddings\": 512,\n",
            "  \"model_type\": \"distilbert\",\n",
            "  \"n_heads\": 12,\n",
            "  \"n_layers\": 6,\n",
            "  \"pad_token_id\": 0,\n",
            "  \"qa_dropout\": 0.1,\n",
            "  \"seq_classif_dropout\": 0.2,\n",
            "  \"sinusoidal_pos_embds\": false,\n",
            "  \"tie_weights_\": true,\n",
            "  \"transformers_version\": \"4.22.2\",\n",
            "  \"vocab_size\": 30522\n",
            "}\n",
            "\n"
          ]
        },
        {
          "output_type": "display_data",
          "data": {
            "text/plain": [
              "Downloading:   0%|          | 0.00/268M [00:00<?, ?B/s]"
            ],
            "application/vnd.jupyter.widget-view+json": {
              "version_major": 2,
              "version_minor": 0,
              "model_id": "4156a3a9220a4f9fb7cc54e45acbaba2"
            }
          },
          "metadata": {}
        },
        {
          "output_type": "stream",
          "name": "stderr",
          "text": [
            "loading weights file pytorch_model.bin from cache at /root/.cache/huggingface/hub/models--distilbert-base-uncased/snapshots/043235d6088ecd3dd5fb5ca3592b6913fd516027/pytorch_model.bin\n",
            "Some weights of the model checkpoint at distilbert-base-uncased were not used when initializing DistilBertForTokenClassification: ['vocab_projector.weight', 'vocab_layer_norm.bias', 'vocab_projector.bias', 'vocab_transform.bias', 'vocab_layer_norm.weight', 'vocab_transform.weight']\n",
            "- This IS expected if you are initializing DistilBertForTokenClassification from the checkpoint of a model trained on another task or with another architecture (e.g. initializing a BertForSequenceClassification model from a BertForPreTraining model).\n",
            "- This IS NOT expected if you are initializing DistilBertForTokenClassification from the checkpoint of a model that you expect to be exactly identical (initializing a BertForSequenceClassification model from a BertForSequenceClassification model).\n",
            "Some weights of DistilBertForTokenClassification were not initialized from the model checkpoint at distilbert-base-uncased and are newly initialized: ['classifier.weight', 'classifier.bias']\n",
            "You should probably TRAIN this model on a down-stream task to be able to use it for predictions and inference.\n",
            "Using cuda_amp half precision backend\n",
            "loading configuration file config.json from cache at /root/.cache/huggingface/hub/models--distilbert-base-uncased/snapshots/043235d6088ecd3dd5fb5ca3592b6913fd516027/config.json\n",
            "Model config DistilBertConfig {\n",
            "  \"activation\": \"gelu\",\n",
            "  \"architectures\": [\n",
            "    \"DistilBertForMaskedLM\"\n",
            "  ],\n",
            "  \"attention_dropout\": 0.1,\n",
            "  \"dim\": 768,\n",
            "  \"dropout\": 0.1,\n",
            "  \"hidden_dim\": 3072,\n",
            "  \"id2label\": {\n",
            "    \"0\": \"O\",\n",
            "    \"1\": \"B-LOC\",\n",
            "    \"2\": \"B-MISC\",\n",
            "    \"3\": \"B-ORG\",\n",
            "    \"4\": \"B-PER\",\n",
            "    \"5\": \"I-LOC\",\n",
            "    \"6\": \"I-MISC\",\n",
            "    \"7\": \"I-ORG\",\n",
            "    \"8\": \"I-PER\"\n",
            "  },\n",
            "  \"initializer_range\": 0.02,\n",
            "  \"label2id\": {\n",
            "    \"B-LOC\": 1,\n",
            "    \"B-MISC\": 2,\n",
            "    \"B-ORG\": 3,\n",
            "    \"B-PER\": 4,\n",
            "    \"I-LOC\": 5,\n",
            "    \"I-MISC\": 6,\n",
            "    \"I-ORG\": 7,\n",
            "    \"I-PER\": 8,\n",
            "    \"O\": 0\n",
            "  },\n",
            "  \"max_position_embeddings\": 512,\n",
            "  \"model_type\": \"distilbert\",\n",
            "  \"n_heads\": 12,\n",
            "  \"n_layers\": 6,\n",
            "  \"pad_token_id\": 0,\n",
            "  \"qa_dropout\": 0.1,\n",
            "  \"seq_classif_dropout\": 0.2,\n",
            "  \"sinusoidal_pos_embds\": false,\n",
            "  \"tie_weights_\": true,\n",
            "  \"transformers_version\": \"4.22.2\",\n",
            "  \"vocab_size\": 30522\n",
            "}\n",
            "\n",
            "loading weights file pytorch_model.bin from cache at /root/.cache/huggingface/hub/models--distilbert-base-uncased/snapshots/043235d6088ecd3dd5fb5ca3592b6913fd516027/pytorch_model.bin\n"
          ]
        },
        {
          "output_type": "stream",
          "name": "stdout",
          "text": [
            "\n",
            "TRAINING...\n",
            "\n"
          ]
        },
        {
          "output_type": "stream",
          "name": "stderr",
          "text": [
            "Some weights of the model checkpoint at distilbert-base-uncased were not used when initializing DistilBertForTokenClassification: ['vocab_projector.weight', 'vocab_layer_norm.bias', 'vocab_projector.bias', 'vocab_transform.bias', 'vocab_layer_norm.weight', 'vocab_transform.weight']\n",
            "- This IS expected if you are initializing DistilBertForTokenClassification from the checkpoint of a model trained on another task or with another architecture (e.g. initializing a BertForSequenceClassification model from a BertForPreTraining model).\n",
            "- This IS NOT expected if you are initializing DistilBertForTokenClassification from the checkpoint of a model that you expect to be exactly identical (initializing a BertForSequenceClassification model from a BertForSequenceClassification model).\n",
            "Some weights of DistilBertForTokenClassification were not initialized from the model checkpoint at distilbert-base-uncased and are newly initialized: ['classifier.weight', 'classifier.bias']\n",
            "You should probably TRAIN this model on a down-stream task to be able to use it for predictions and inference.\n",
            "/usr/local/lib/python3.7/dist-packages/transformers/optimization.py:310: FutureWarning: This implementation of AdamW is deprecated and will be removed in a future version. Use the PyTorch implementation torch.optim.AdamW instead, or set `no_deprecation_warning=True` to disable this warning\n",
            "  FutureWarning,\n",
            "***** Running training *****\n",
            "  Num examples = 14041\n",
            "  Num Epochs = 5\n",
            "  Instantaneous batch size per device = 32\n",
            "  Total train batch size (w. parallel, distributed & accumulation) = 32\n",
            "  Gradient Accumulation steps = 1\n",
            "  Total optimization steps = 2195\n",
            "The following columns in the training set don't have a corresponding argument in `DistilBertForTokenClassification.forward` and have been ignored: token_type_ids. If token_type_ids are not expected by `DistilBertForTokenClassification.forward`,  you can safely ignore this message.\n",
            "***** Running Evaluation *****\n",
            "  Num examples = 3250\n",
            "  Batch size = 8\n",
            "The following columns in the evaluation set don't have a corresponding argument in `DistilBertForTokenClassification.forward` and have been ignored: token_type_ids. If token_type_ids are not expected by `DistilBertForTokenClassification.forward`,  you can safely ignore this message.\n"
          ]
        },
        {
          "output_type": "stream",
          "name": "stdout",
          "text": [
            "{'loss': 0.5533, 'learning_rate': 2.1850000000000003e-05, 'epoch': 1.0}\n"
          ]
        },
        {
          "output_type": "stream",
          "name": "stderr",
          "text": [
            "Saving model checkpoint to ./models/checkpoint-439\n",
            "Configuration saved in ./models/checkpoint-439/config.json\n"
          ]
        },
        {
          "output_type": "stream",
          "name": "stdout",
          "text": [
            "{'eval_loss': 0.06205374747514725, 'eval_LOC_precision': 0.8819409704852427, 'eval_LOC_recall': 0.95971692977681, 'eval_LOC_f1': 0.9191866527632951, 'eval_LOC_number': 1837, 'eval_MISC_precision': 0.8026004728132388, 'eval_MISC_recall': 0.7364425162689805, 'eval_MISC_f1': 0.7680995475113123, 'eval_MISC_number': 922, 'eval_ORG_precision': 0.8433823529411765, 'eval_ORG_recall': 0.8553318419090231, 'eval_ORG_f1': 0.8493150684931507, 'eval_ORG_number': 1341, 'eval_PER_precision': 0.967274678111588, 'eval_PER_recall': 0.9804241435562806, 'eval_PER_f1': 0.9738050229543613, 'eval_PER_number': 1839, 'eval_overall_precision': 0.8884494974460372, 'eval_overall_recall': 0.9078969523488802, 'eval_overall_f1': 0.8980679546968687, 'eval_overall_accuracy': 0.9828847051501478, 'eval_runtime': 11.5064, 'eval_samples_per_second': 282.451, 'eval_steps_per_second': 35.372, 'epoch': 1.0}\n"
          ]
        },
        {
          "output_type": "stream",
          "name": "stderr",
          "text": [
            "Model weights saved in ./models/checkpoint-439/pytorch_model.bin\n",
            "***** Running Evaluation *****\n",
            "  Num examples = 3250\n",
            "  Batch size = 8\n",
            "The following columns in the evaluation set don't have a corresponding argument in `DistilBertForTokenClassification.forward` and have been ignored: token_type_ids. If token_type_ids are not expected by `DistilBertForTokenClassification.forward`,  you can safely ignore this message.\n"
          ]
        },
        {
          "output_type": "stream",
          "name": "stdout",
          "text": [
            "{'loss': 0.0512, 'learning_rate': 4.38e-05, 'epoch': 2.0}\n"
          ]
        },
        {
          "output_type": "stream",
          "name": "stderr",
          "text": [
            "Saving model checkpoint to ./models/checkpoint-878\n",
            "Configuration saved in ./models/checkpoint-878/config.json\n"
          ]
        },
        {
          "output_type": "stream",
          "name": "stdout",
          "text": [
            "{'eval_loss': 0.04518156126141548, 'eval_LOC_precision': 0.9382585751978891, 'eval_LOC_recall': 0.9678824169842134, 'eval_LOC_f1': 0.9528403001071811, 'eval_LOC_number': 1837, 'eval_MISC_precision': 0.7929240374609782, 'eval_MISC_recall': 0.8264642082429501, 'eval_MISC_f1': 0.8093467870419544, 'eval_MISC_number': 922, 'eval_ORG_precision': 0.8927469135802469, 'eval_ORG_recall': 0.8627889634601044, 'eval_ORG_f1': 0.8775123246113008, 'eval_ORG_number': 1341, 'eval_PER_precision': 0.9756493506493507, 'eval_PER_recall': 0.9804241435562806, 'eval_PER_f1': 0.9780309194467046, 'eval_PER_number': 1839, 'eval_overall_precision': 0.9166666666666666, 'eval_overall_recall': 0.9260818319582421, 'eval_overall_f1': 0.9213501968339057, 'eval_overall_accuracy': 0.9869128503016786, 'eval_runtime': 11.3257, 'eval_samples_per_second': 286.958, 'eval_steps_per_second': 35.936, 'epoch': 2.0}\n"
          ]
        },
        {
          "output_type": "stream",
          "name": "stderr",
          "text": [
            "Model weights saved in ./models/checkpoint-878/pytorch_model.bin\n",
            "***** Running Evaluation *****\n",
            "  Num examples = 3250\n",
            "  Batch size = 8\n",
            "The following columns in the evaluation set don't have a corresponding argument in `DistilBertForTokenClassification.forward` and have been ignored: token_type_ids. If token_type_ids are not expected by `DistilBertForTokenClassification.forward`,  you can safely ignore this message.\n"
          ]
        },
        {
          "output_type": "stream",
          "name": "stdout",
          "text": [
            "{'loss': 0.0271, 'learning_rate': 3.6820083682008375e-05, 'epoch': 3.0}\n"
          ]
        },
        {
          "output_type": "stream",
          "name": "stderr",
          "text": [
            "Saving model checkpoint to ./models/checkpoint-1317\n",
            "Configuration saved in ./models/checkpoint-1317/config.json\n"
          ]
        },
        {
          "output_type": "stream",
          "name": "stdout",
          "text": [
            "{'eval_loss': 0.04322735592722893, 'eval_LOC_precision': 0.9299065420560748, 'eval_LOC_recall': 0.974959172563963, 'eval_LOC_f1': 0.9519000797236249, 'eval_LOC_number': 1837, 'eval_MISC_precision': 0.876243093922652, 'eval_MISC_recall': 0.8600867678958786, 'eval_MISC_f1': 0.8680897646414889, 'eval_MISC_number': 922, 'eval_ORG_precision': 0.8976674191121143, 'eval_ORG_recall': 0.889634601043997, 'eval_ORG_f1': 0.8936329588014981, 'eval_ORG_number': 1341, 'eval_PER_precision': 0.9761517615176152, 'eval_PER_recall': 0.9793365959760739, 'eval_PER_f1': 0.9777415852334419, 'eval_PER_number': 1839, 'eval_overall_precision': 0.9288925895087428, 'eval_overall_recall': 0.9392153561205591, 'eval_overall_f1': 0.934025452109846, 'eval_overall_accuracy': 0.9882440399011116, 'eval_runtime': 11.3389, 'eval_samples_per_second': 286.623, 'eval_steps_per_second': 35.894, 'epoch': 3.0}\n"
          ]
        },
        {
          "output_type": "stream",
          "name": "stderr",
          "text": [
            "Model weights saved in ./models/checkpoint-1317/pytorch_model.bin\n",
            "Deleting older checkpoint [models/checkpoint-439] due to args.save_total_limit\n",
            "***** Running Evaluation *****\n",
            "  Num examples = 3250\n",
            "  Batch size = 8\n",
            "The following columns in the evaluation set don't have a corresponding argument in `DistilBertForTokenClassification.forward` and have been ignored: token_type_ids. If token_type_ids are not expected by `DistilBertForTokenClassification.forward`,  you can safely ignore this message.\n"
          ]
        },
        {
          "output_type": "stream",
          "name": "stdout",
          "text": [
            "{'loss': 0.0131, 'learning_rate': 1.8451882845188285e-05, 'epoch': 4.0}\n"
          ]
        },
        {
          "output_type": "stream",
          "name": "stderr",
          "text": [
            "Saving model checkpoint to ./models/checkpoint-1756\n",
            "Configuration saved in ./models/checkpoint-1756/config.json\n"
          ]
        },
        {
          "output_type": "stream",
          "name": "stdout",
          "text": [
            "{'eval_loss': 0.0419057197868824, 'eval_LOC_precision': 0.9614758545849159, 'eval_LOC_recall': 0.9646162221012521, 'eval_LOC_f1': 0.9630434782608697, 'eval_LOC_number': 1837, 'eval_MISC_precision': 0.847265221878225, 'eval_MISC_recall': 0.8904555314533622, 'eval_MISC_f1': 0.8683236382866207, 'eval_MISC_number': 922, 'eval_ORG_precision': 0.904029304029304, 'eval_ORG_recall': 0.9202087994034303, 'eval_ORG_f1': 0.9120473022912048, 'eval_ORG_number': 1341, 'eval_PER_precision': 0.9772357723577236, 'eval_PER_recall': 0.9804241435562806, 'eval_PER_f1': 0.9788273615635179, 'eval_PER_number': 1839, 'eval_overall_precision': 0.9349053470607771, 'eval_overall_recall': 0.947971038895437, 'eval_overall_f1': 0.9413928601287518, 'eval_overall_accuracy': 0.9897826876199367, 'eval_runtime': 11.1992, 'eval_samples_per_second': 290.198, 'eval_steps_per_second': 36.342, 'epoch': 4.0}\n"
          ]
        },
        {
          "output_type": "stream",
          "name": "stderr",
          "text": [
            "Model weights saved in ./models/checkpoint-1756/pytorch_model.bin\n",
            "Deleting older checkpoint [models/checkpoint-878] due to args.save_total_limit\n",
            "***** Running Evaluation *****\n",
            "  Num examples = 3250\n",
            "  Batch size = 8\n",
            "The following columns in the evaluation set don't have a corresponding argument in `DistilBertForTokenClassification.forward` and have been ignored: token_type_ids. If token_type_ids are not expected by `DistilBertForTokenClassification.forward`,  you can safely ignore this message.\n"
          ]
        },
        {
          "output_type": "stream",
          "name": "stdout",
          "text": [
            "{'loss': 0.0067, 'learning_rate': 8.368200836820084e-08, 'epoch': 5.0}\n"
          ]
        },
        {
          "output_type": "stream",
          "name": "stderr",
          "text": [
            "Saving model checkpoint to ./models/checkpoint-2195\n",
            "Configuration saved in ./models/checkpoint-2195/config.json\n"
          ]
        },
        {
          "output_type": "stream",
          "name": "stdout",
          "text": [
            "{'eval_loss': 0.044513680040836334, 'eval_LOC_precision': 0.961017866811045, 'eval_LOC_recall': 0.9662493195427327, 'eval_LOC_f1': 0.9636264929424538, 'eval_LOC_number': 1837, 'eval_MISC_precision': 0.878755364806867, 'eval_MISC_recall': 0.8882863340563991, 'eval_MISC_f1': 0.883495145631068, 'eval_MISC_number': 922, 'eval_ORG_precision': 0.9096296296296297, 'eval_ORG_recall': 0.9157345264727815, 'eval_ORG_f1': 0.9126718691936083, 'eval_ORG_number': 1341, 'eval_PER_precision': 0.9799240368963646, 'eval_PER_recall': 0.9820554649265906, 'eval_PER_f1': 0.9809885931558937, 'eval_PER_number': 1839, 'eval_overall_precision': 0.942397856664434, 'eval_overall_recall': 0.9476342818656339, 'eval_overall_f1': 0.9450088153807404, 'eval_overall_accuracy': 0.9898172639731687, 'eval_runtime': 11.0912, 'eval_samples_per_second': 293.024, 'eval_steps_per_second': 36.696, 'epoch': 5.0}\n"
          ]
        },
        {
          "output_type": "stream",
          "name": "stderr",
          "text": [
            "Model weights saved in ./models/checkpoint-2195/pytorch_model.bin\n",
            "Deleting older checkpoint [models/checkpoint-1317] due to args.save_total_limit\n",
            "\n",
            "\n",
            "Training completed. Do not forget to share your model on huggingface.co/models =)\n",
            "\n",
            "\n",
            "Loading best model from ./models/checkpoint-1756 (score: 0.0419057197868824).\n",
            "***** Running Evaluation *****\n",
            "  Num examples = 3250\n",
            "  Batch size = 8\n",
            "The following columns in the evaluation set don't have a corresponding argument in `DistilBertForTokenClassification.forward` and have been ignored: token_type_ids. If token_type_ids are not expected by `DistilBertForTokenClassification.forward`,  you can safely ignore this message.\n"
          ]
        },
        {
          "output_type": "stream",
          "name": "stdout",
          "text": [
            "{'train_runtime': 444.3873, 'train_samples_per_second': 157.982, 'train_steps_per_second': 4.939, 'train_loss': 0.13027186328566429, 'epoch': 5.0}\n"
          ]
        },
        {
          "output_type": "stream",
          "name": "stderr",
          "text": [
            "***** Running Prediction *****\n",
            "  Num examples = 3453\n",
            "  Batch size = 8\n",
            "The following columns in the test set don't have a corresponding argument in `DistilBertForTokenClassification.forward` and have been ignored: token_type_ids. If token_type_ids are not expected by `DistilBertForTokenClassification.forward`,  you can safely ignore this message.\n"
          ]
        },
        {
          "output_type": "stream",
          "name": "stdout",
          "text": [
            "{'eval_loss': 0.0419057197868824, 'eval_LOC_precision': 0.9614758545849159, 'eval_LOC_recall': 0.9646162221012521, 'eval_LOC_f1': 0.9630434782608697, 'eval_LOC_number': 1837, 'eval_MISC_precision': 0.847265221878225, 'eval_MISC_recall': 0.8904555314533622, 'eval_MISC_f1': 0.8683236382866207, 'eval_MISC_number': 922, 'eval_ORG_precision': 0.904029304029304, 'eval_ORG_recall': 0.9202087994034303, 'eval_ORG_f1': 0.9120473022912048, 'eval_ORG_number': 1341, 'eval_PER_precision': 0.9772357723577236, 'eval_PER_recall': 0.9804241435562806, 'eval_PER_f1': 0.9788273615635179, 'eval_PER_number': 1839, 'eval_overall_precision': 0.9349053470607771, 'eval_overall_recall': 0.947971038895437, 'eval_overall_f1': 0.9413928601287518, 'eval_overall_accuracy': 0.9897826876199367, 'eval_runtime': 11.3038, 'eval_samples_per_second': 287.513, 'eval_steps_per_second': 36.006, 'epoch': 5.0}\n",
            "TEST...\n",
            "END TEST...\n"
          ]
        }
      ],
      "source": [
        "args  = TrainingArguments(\n",
        "    num_train_epochs = 5,\n",
        "    per_device_train_batch_size = 32,\n",
        "    per_device_eval_batch_size = 8,\n",
        "    overwrite_output_dir=True,\n",
        "    output_dir= \"./models\",  \n",
        "    save_total_limit=1,\n",
        "    evaluation_strategy=\"epoch\",\n",
        "    logging_strategy = \"epoch\",\n",
        "    save_strategy = \"epoch\",\n",
        "    fp16=True,   \n",
        "    warmup_steps = 1000,\n",
        "    load_best_model_at_end= True,\n",
        "    metric_for_best_model = 'eval_loss'\n",
        "    )\n",
        "\n",
        "train_results, eval_results, test_results, trainer = train_test(\n",
        "    training_set = conll2003_train, # you can use also the path ./dataset/conll2003/conll2003_train.csv without load the dataset\n",
        "    validation_set = conll2003_val, \n",
        "    test_set=conll2003_test,\n",
        "    train_args = args, \n",
        "    model_name='distilbert-base-uncased', \n",
        "    max_len=128, \n",
        "    loss='CE', \n",
        "    callbacks= [EarlyStoppingCallback(early_stopping_patience=3)], \n",
        "    device=0 )"
      ]
    },
    {
      "cell_type": "markdown",
      "source": [
        "## Check the results"
      ],
      "metadata": {
        "id": "U_eXE6wOnvdC"
      }
    },
    {
      "cell_type": "code",
      "source": [
        "train_results"
      ],
      "metadata": {
        "id": "V2GYn9biv1Lb",
        "colab": {
          "base_uri": "https://localhost:8080/"
        },
        "outputId": "f3368a3b-75ba-4cfe-e713-9e4c8b39327b"
      },
      "execution_count": 7,
      "outputs": [
        {
          "output_type": "execute_result",
          "data": {
            "text/plain": [
              "{'train_runtime': 444.3873,\n",
              " 'train_samples_per_second': 157.982,\n",
              " 'train_steps_per_second': 4.939,\n",
              " 'train_loss': 0.13027186328566429,\n",
              " 'epoch': 5.0}"
            ]
          },
          "metadata": {},
          "execution_count": 7
        }
      ]
    },
    {
      "cell_type": "code",
      "source": [
        "eval_results"
      ],
      "metadata": {
        "colab": {
          "base_uri": "https://localhost:8080/"
        },
        "id": "tvhXNMVjn0pR",
        "outputId": "e0b8d7d4-1baf-4fa2-ddd2-af224fd5eb10"
      },
      "execution_count": 8,
      "outputs": [
        {
          "output_type": "execute_result",
          "data": {
            "text/plain": [
              "{'eval_loss': 0.0419057197868824,\n",
              " 'eval_LOC_precision': 0.9614758545849159,\n",
              " 'eval_LOC_recall': 0.9646162221012521,\n",
              " 'eval_LOC_f1': 0.9630434782608697,\n",
              " 'eval_LOC_number': 1837,\n",
              " 'eval_MISC_precision': 0.847265221878225,\n",
              " 'eval_MISC_recall': 0.8904555314533622,\n",
              " 'eval_MISC_f1': 0.8683236382866207,\n",
              " 'eval_MISC_number': 922,\n",
              " 'eval_ORG_precision': 0.904029304029304,\n",
              " 'eval_ORG_recall': 0.9202087994034303,\n",
              " 'eval_ORG_f1': 0.9120473022912048,\n",
              " 'eval_ORG_number': 1341,\n",
              " 'eval_PER_precision': 0.9772357723577236,\n",
              " 'eval_PER_recall': 0.9804241435562806,\n",
              " 'eval_PER_f1': 0.9788273615635179,\n",
              " 'eval_PER_number': 1839,\n",
              " 'eval_overall_precision': 0.9349053470607771,\n",
              " 'eval_overall_recall': 0.947971038895437,\n",
              " 'eval_overall_f1': 0.9413928601287518,\n",
              " 'eval_overall_accuracy': 0.9897826876199367,\n",
              " 'eval_runtime': 11.3038,\n",
              " 'eval_samples_per_second': 287.513,\n",
              " 'eval_steps_per_second': 36.006,\n",
              " 'epoch': 5.0}"
            ]
          },
          "metadata": {},
          "execution_count": 8
        }
      ]
    },
    {
      "cell_type": "code",
      "source": [
        "test_results"
      ],
      "metadata": {
        "colab": {
          "base_uri": "https://localhost:8080/"
        },
        "id": "cQbYNUBln14B",
        "outputId": "ac4b68eb-cc0a-4c2a-cf8d-0c8229bb7571"
      },
      "execution_count": 9,
      "outputs": [
        {
          "output_type": "execute_result",
          "data": {
            "text/plain": [
              "{'test_loss': 0.10277716815471649,\n",
              " 'test_LOC_precision': 0.9061032863849765,\n",
              " 'test_LOC_recall': 0.9262147570485902,\n",
              " 'test_LOC_f1': 0.9160486502521507,\n",
              " 'test_LOC_number': 1667,\n",
              " 'test_MISC_precision': 0.7425997425997426,\n",
              " 'test_MISC_recall': 0.8219373219373219,\n",
              " 'test_MISC_f1': 0.7802569303583502,\n",
              " 'test_MISC_number': 702,\n",
              " 'test_ORG_precision': 0.8478642480983031,\n",
              " 'test_ORG_recall': 0.872366044551475,\n",
              " 'test_ORG_f1': 0.8599406528189911,\n",
              " 'test_ORG_number': 1661,\n",
              " 'test_PER_precision': 0.972396486825596,\n",
              " 'test_PER_recall': 0.9591584158415841,\n",
              " 'test_PER_f1': 0.9657320872274143,\n",
              " 'test_PER_number': 1616,\n",
              " 'test_overall_precision': 0.8852005532503457,\n",
              " 'test_overall_recall': 0.9068366985476444,\n",
              " 'test_overall_f1': 0.8958880139982501,\n",
              " 'test_overall_accuracy': 0.9810804222684743,\n",
              " 'test_runtime': 10.8545,\n",
              " 'test_samples_per_second': 318.117,\n",
              " 'test_steps_per_second': 39.799}"
            ]
          },
          "metadata": {},
          "execution_count": 9
        }
      ]
    },
    {
      "cell_type": "markdown",
      "source": [
        "## Load the model and do inference"
      ],
      "metadata": {
        "id": "qkQaTRcbn1fZ"
      }
    },
    {
      "cell_type": "code",
      "source": [
        "import numpy as np\n",
        "from transformers import DistilBertForTokenClassification, DistilBertTokenizer\n",
        "import torch"
      ],
      "metadata": {
        "id": "7hMuKH0LoPN3"
      },
      "execution_count": 33,
      "outputs": []
    },
    {
      "cell_type": "markdown",
      "source": [
        "**Load the model**"
      ],
      "metadata": {
        "id": "iwrGMXiEv5AO"
      }
    },
    {
      "cell_type": "code",
      "source": [
        "model = DistilBertForTokenClassification.from_pretrained('./models/checkpoint-2195')\n",
        "tokenizer = DistilBertTokenizer.from_pretrained('distilbert-base-uncased', do_lower_case=True)"
      ],
      "metadata": {
        "colab": {
          "base_uri": "https://localhost:8080/"
        },
        "id": "TgJOPwM3n_Ei",
        "outputId": "855f12d4-c782-4fee-906e-f1078fcd3104"
      },
      "execution_count": 11,
      "outputs": [
        {
          "output_type": "stream",
          "name": "stderr",
          "text": [
            "loading configuration file ./models/checkpoint-2195/config.json\n",
            "Model config DistilBertConfig {\n",
            "  \"_name_or_path\": \"distilbert-base-uncased\",\n",
            "  \"activation\": \"gelu\",\n",
            "  \"architectures\": [\n",
            "    \"DistilBertForTokenClassification\"\n",
            "  ],\n",
            "  \"attention_dropout\": 0.1,\n",
            "  \"dim\": 768,\n",
            "  \"dropout\": 0.1,\n",
            "  \"hidden_dim\": 3072,\n",
            "  \"id2label\": {\n",
            "    \"0\": \"O\",\n",
            "    \"1\": \"B-LOC\",\n",
            "    \"2\": \"B-MISC\",\n",
            "    \"3\": \"B-ORG\",\n",
            "    \"4\": \"B-PER\",\n",
            "    \"5\": \"I-LOC\",\n",
            "    \"6\": \"I-MISC\",\n",
            "    \"7\": \"I-ORG\",\n",
            "    \"8\": \"I-PER\"\n",
            "  },\n",
            "  \"initializer_range\": 0.02,\n",
            "  \"label2id\": {\n",
            "    \"B-LOC\": 1,\n",
            "    \"B-MISC\": 2,\n",
            "    \"B-ORG\": 3,\n",
            "    \"B-PER\": 4,\n",
            "    \"I-LOC\": 5,\n",
            "    \"I-MISC\": 6,\n",
            "    \"I-ORG\": 7,\n",
            "    \"I-PER\": 8,\n",
            "    \"O\": 0\n",
            "  },\n",
            "  \"max_position_embeddings\": 512,\n",
            "  \"model_type\": \"distilbert\",\n",
            "  \"n_heads\": 12,\n",
            "  \"n_layers\": 6,\n",
            "  \"pad_token_id\": 0,\n",
            "  \"qa_dropout\": 0.1,\n",
            "  \"seq_classif_dropout\": 0.2,\n",
            "  \"sinusoidal_pos_embds\": false,\n",
            "  \"tie_weights_\": true,\n",
            "  \"torch_dtype\": \"float32\",\n",
            "  \"transformers_version\": \"4.22.2\",\n",
            "  \"vocab_size\": 30522\n",
            "}\n",
            "\n",
            "loading weights file ./models/checkpoint-2195/pytorch_model.bin\n",
            "All model checkpoint weights were used when initializing DistilBertForTokenClassification.\n",
            "\n",
            "All the weights of DistilBertForTokenClassification were initialized from the model checkpoint at ./models/checkpoint-2195.\n",
            "If your task is similar to the task the model of the checkpoint was trained on, you can already use DistilBertForTokenClassification for predictions without further training.\n",
            "loading file vocab.txt from cache at /root/.cache/huggingface/hub/models--distilbert-base-uncased/snapshots/043235d6088ecd3dd5fb5ca3592b6913fd516027/vocab.txt\n",
            "loading file added_tokens.json from cache at None\n",
            "loading file special_tokens_map.json from cache at None\n",
            "loading file tokenizer_config.json from cache at /root/.cache/huggingface/hub/models--distilbert-base-uncased/snapshots/043235d6088ecd3dd5fb5ca3592b6913fd516027/tokenizer_config.json\n",
            "loading configuration file config.json from cache at /root/.cache/huggingface/hub/models--distilbert-base-uncased/snapshots/043235d6088ecd3dd5fb5ca3592b6913fd516027/config.json\n",
            "Model config DistilBertConfig {\n",
            "  \"_name_or_path\": \"distilbert-base-uncased\",\n",
            "  \"activation\": \"gelu\",\n",
            "  \"architectures\": [\n",
            "    \"DistilBertForMaskedLM\"\n",
            "  ],\n",
            "  \"attention_dropout\": 0.1,\n",
            "  \"dim\": 768,\n",
            "  \"dropout\": 0.1,\n",
            "  \"hidden_dim\": 3072,\n",
            "  \"initializer_range\": 0.02,\n",
            "  \"max_position_embeddings\": 512,\n",
            "  \"model_type\": \"distilbert\",\n",
            "  \"n_heads\": 12,\n",
            "  \"n_layers\": 6,\n",
            "  \"pad_token_id\": 0,\n",
            "  \"qa_dropout\": 0.1,\n",
            "  \"seq_classif_dropout\": 0.2,\n",
            "  \"sinusoidal_pos_embds\": false,\n",
            "  \"tie_weights_\": true,\n",
            "  \"transformers_version\": \"4.22.2\",\n",
            "  \"vocab_size\": 30522\n",
            "}\n",
            "\n"
          ]
        }
      ]
    },
    {
      "cell_type": "markdown",
      "source": [
        "**Inference**"
      ],
      "metadata": {
        "id": "66xW3nx0v7Y0"
      }
    },
    {
      "cell_type": "code",
      "source": [
        "text = [\"Apple CEO Tim Cook introduces the new iPhone\"]\n",
        "encoding = tokenizer(text, padding=True, return_tensors=\"pt\")\n",
        "predicted = model(**encoding)\n",
        "predicted_id = torch.argmax(predicted.logits, -1)\n",
        "predicted_id"
      ],
      "metadata": {
        "id": "y4sikkQ4oVST",
        "colab": {
          "base_uri": "https://localhost:8080/"
        },
        "outputId": "a724d5e4-1791-4ec8-dec6-f6381b8549e6"
      },
      "execution_count": 74,
      "outputs": [
        {
          "output_type": "execute_result",
          "data": {
            "text/plain": [
              "tensor([[0, 3, 0, 4, 8, 0, 0, 0, 2, 0]])"
            ]
          },
          "metadata": {},
          "execution_count": 74
        }
      ]
    },
    {
      "cell_type": "code",
      "source": [
        " #Convert id to label and remove the first and the last tokens (101 and 102),\n",
        " #are tokens used by the tokenizer to delimit the sentence\n",
        " [model.config.id2label[k] for k in predicted_id.tolist()[0]][1:-1]"
      ],
      "metadata": {
        "colab": {
          "base_uri": "https://localhost:8080/"
        },
        "id": "k-FHYQKtrdUA",
        "outputId": "17c165c2-25fc-4b6e-cad1-67d7a7724e2a"
      },
      "execution_count": 78,
      "outputs": [
        {
          "output_type": "execute_result",
          "data": {
            "text/plain": [
              "['B-ORG', 'O', 'B-PER', 'I-PER', 'O', 'O', 'O', 'B-MISC']"
            ]
          },
          "metadata": {},
          "execution_count": 78
        }
      ]
    }
  ]
}